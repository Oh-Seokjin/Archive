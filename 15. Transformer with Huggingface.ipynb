{
 "cells": [
  {
   "cell_type": "markdown",
   "metadata": {},
   "source": [
    "# Transformer with Huggingface\n",
    "- 이전까지는 모델에 신경썼지만, 이제는 학습된 가중치를 어떻게 사용하느냐\n",
    "- BERT: transformer 인코더 > MLM & NSP: pre=train 후 fine-tuning 재학습\n",
    "- 모델을 어떻게 학습시키느냐와 사전학습 weight(더 중요)\n",
    "- KoBERT: 한국어 자료로 사전학습\n",
    "- 또한 상황에 따라 모델 크기 다르게 사용 GPT small, large...(디코더레이어 수와 hidden dim size가 다름), 커질수록 더많은 GPU자원 필요\n",
    "- 모델/가중치마다 tokenizer 다르게 사용\n",
    "- Architecture, Pretrained Weight, Config(scale, dim), Tokenizer"
   ]
  },
  {
   "cell_type": "markdown",
   "metadata": {},
   "source": [
    "huggingface는 이러한 과정을 단순화\n",
    "- models에서 weight variation 탐색 가능"
   ]
  },
  {
   "cell_type": "code",
   "execution_count": null,
   "metadata": {},
   "outputs": [],
   "source": [
    "pip install transformers"
   ]
  },
  {
   "cell_type": "code",
   "execution_count": 14,
   "metadata": {},
   "outputs": [],
   "source": [
    "from transformers import BertConfig, BertForMaskedLM\n",
    "# 실제 코드 확인하고 싶다면\n",
    "from transformers.models.bert.modeling_bert import BertForMaskedLM"
   ]
  },
  {
   "cell_type": "code",
   "execution_count": null,
   "metadata": {},
   "outputs": [],
   "source": [
    "# 직접 학습시킬 경우\n",
    "config = BertConfig(vocab_size=40000, hidden_size=256, num_hidden_layers=4, num_attention_heads=4, intermediate_size=1024, max_position_embeddings=1024)\n",
    "model = BertForMaskedLM(config)\n",
    "print(model)\n",
    "# 최종적으로 vocab_size=40000 -> out_features=40000 "
   ]
  },
  {
   "cell_type": "code",
   "execution_count": null,
   "metadata": {},
   "outputs": [],
   "source": [
    "# 사전 학습 활용할 경우\n",
    "\n",
    "# 몇 층 쌓았고, vocab_size, hidden_dim_size 등등을 가지고옴\n",
    "# 12층, attentionhead=12, pad_token = 0, vocab_size=30522, GELU... 등등\n",
    "# 가중치 가져오지 않으면, random_initailize됨\n",
    "config = BertConfig.from_pretrained(\"bert-base-uncased\")\n",
    "print(config)\n"
   ]
  },
  {
   "cell_type": "code",
   "execution_count": null,
   "metadata": {},
   "outputs": [],
   "source": []
  }
 ],
 "metadata": {
  "kernelspec": {
   "display_name": "Python 3.9.13 ('base')",
   "language": "python",
   "name": "python3"
  },
  "language_info": {
   "codemirror_mode": {
    "name": "ipython",
    "version": 3
   },
   "file_extension": ".py",
   "mimetype": "text/x-python",
   "name": "python",
   "nbconvert_exporter": "python",
   "pygments_lexer": "ipython3",
   "version": "3.9.13"
  },
  "orig_nbformat": 4,
  "vscode": {
   "interpreter": {
    "hash": "fc8214fa935b74cd2993506950db861c39f3b536af543597dc14393642024e69"
   }
  }
 },
 "nbformat": 4,
 "nbformat_minor": 2
}
