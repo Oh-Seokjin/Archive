{
 "cells": [
  {
   "cell_type": "markdown",
   "metadata": {},
   "source": [
    "# Logistic Regression"
   ]
  },
  {
   "cell_type": "code",
   "execution_count": 22,
   "metadata": {},
   "outputs": [],
   "source": [
    "import torch\n",
    "import torch.nn as nn\n",
    "import torch.nn.functional as F\n",
    "import torch.optim as optim"
   ]
  },
  {
   "cell_type": "code",
   "execution_count": 23,
   "metadata": {},
   "outputs": [],
   "source": [
    "x = [[1, 2], [2, 3], [3, 1], [4, 3], [5, 3], [6, 2]]\n",
    "y = [[0], [0], [0], [1], [1], [1]]\n",
    "x_train = torch.FloatTensor(x)\n",
    "y_train = torch.FloatTensor(y)\n",
    "\n",
    "W = torch.zeros((2, 1), requires_grad=True)\n",
    "b = torch.zeros(1, requires_grad=True)\n",
    "\n",
    "hypothesis = 1 / (1 + torch.exp(-(x_train.matmul(W) + b))) # Sigmoid\n",
    "#          = torch.sigmoid(x_train.matmul.(W)+b)  \n",
    "\n",
    "losses = -(y_train*torch.log(hypothesis) + (1-y_train)*torch.log(1-hypothesis))\n",
    "#      = F.binary_cross_entorpy(hypothesis, y_train)\n",
    "\n",
    "cost = losses.mean()"
   ]
  },
  {
   "cell_type": "code",
   "execution_count": 24,
   "metadata": {},
   "outputs": [
    {
     "name": "stdout",
     "output_type": "stream",
     "text": [
      "Epoch    0/1000 Cost: 0.693147\n",
      "Epoch  100/1000 Cost: 0.134722\n",
      "Epoch  200/1000 Cost: 0.080643\n",
      "Epoch  300/1000 Cost: 0.057900\n",
      "Epoch  400/1000 Cost: 0.045300\n",
      "Epoch  500/1000 Cost: 0.037261\n",
      "Epoch  600/1000 Cost: 0.031673\n",
      "Epoch  700/1000 Cost: 0.027556\n",
      "Epoch  800/1000 Cost: 0.024394\n",
      "Epoch  900/1000 Cost: 0.021888\n",
      "Epoch 1000/1000 Cost: 0.019852\n"
     ]
    }
   ],
   "source": [
    "optimizer = optim.SGD([W, b], lr=1)\n",
    "\n",
    "nb_epochs = 1000\n",
    "for epoch in range(nb_epochs + 1):\n",
    "\n",
    "    hypothesis = torch.sigmoid(x_train.matmul(W) + b)\n",
    "    cost = -(y_train * torch.log(hypothesis) + \n",
    "             (1 - y_train) * torch.log(1 - hypothesis)).mean()\n",
    "\n",
    "    optimizer.zero_grad()\n",
    "    cost.backward()\n",
    "    optimizer.step()\n",
    "\n",
    "    if epoch % 100 == 0:\n",
    "        print('Epoch {:4d}/{} Cost: {:.6f}'.format(\n",
    "            epoch, nb_epochs, cost.item()\n",
    "        ))"
   ]
  },
  {
   "cell_type": "code",
   "execution_count": 25,
   "metadata": {},
   "outputs": [
    {
     "name": "stdout",
     "output_type": "stream",
     "text": [
      "preditcion:\n",
      " tensor([[False],\n",
      "        [False],\n",
      "        [False],\n",
      "        [ True],\n",
      "        [ True],\n",
      "        [ True]])\n",
      "y:\n",
      " [[0], [0], [0], [1], [1], [1]]\n"
     ]
    }
   ],
   "source": [
    "hypothesis = torch.sigmoid(x_train.matmul(W) + b)\n",
    "\n",
    "prediction = hypothesis >= torch.FloatTensor([0.5])\n",
    "print(\"preditcion:\\n\", prediction)\n",
    "print(\"y:\\n\", y)\n"
   ]
  },
  {
   "cell_type": "markdown",
   "metadata": {},
   "source": [
    "## Module로 구현"
   ]
  },
  {
   "cell_type": "code",
   "execution_count": 27,
   "metadata": {},
   "outputs": [],
   "source": [
    "x = [[1, 2], [2, 3], [3, 1], [4, 3], [5, 3], [6, 2]]\n",
    "y = [[0], [0], [0], [1], [1], [1]]\n",
    "x_train = torch.FloatTensor(x)\n",
    "y_train = torch.FloatTensor(y)"
   ]
  },
  {
   "cell_type": "code",
   "execution_count": 28,
   "metadata": {},
   "outputs": [],
   "source": [
    "model = nn.Sequential(\n",
    "    nn.Linear(2, 1),\n",
    "    nn.Sigmoid()\n",
    ")"
   ]
  },
  {
   "cell_type": "code",
   "execution_count": null,
   "metadata": {},
   "outputs": [],
   "source": [
    "optimizer = optim.SGD(model.parameters(), lr=1)\n",
    "\n",
    "nb_epochs = 1000\n",
    "for epoch in range(nb_epochs + 1):\n",
    "\n",
    "    hypothesis = model(x_train)\n",
    "    cost = F.binary_cross_entropy(hypothesis, y_train)\n",
    "\n",
    "    optimizer.zero_grad()\n",
    "    cost.backward()\n",
    "    optimizer.step()\n",
    "    \n",
    "    if epoch % 10 == 0:\n",
    "        prediction = hypothesis >= torch.FloatTensor([0.5]) # 예측값이 0.5를 넘으면 True로 간주\n",
    "        correct_prediction = prediction.float() == y_train # 실제값과 일치하는 경우만 True로 간주\n",
    "        accuracy = correct_prediction.sum().item() / len(correct_prediction) # 정확도를 계산\n",
    "        print('Epoch {:4d}/{} Cost: {:.6f} Accuracy {:2.2f}%'.format( # 각 에포크마다 정확도를 출력\n",
    "            epoch, nb_epochs, cost.item(), accuracy * 100,\n",
    "        ))"
   ]
  },
  {
   "cell_type": "markdown",
   "metadata": {},
   "source": [
    "## 클래스로 구현"
   ]
  },
  {
   "cell_type": "code",
   "execution_count": 18,
   "metadata": {},
   "outputs": [],
   "source": [
    "x = [[1, 2], [2, 3], [3, 1], [4, 3], [5, 3], [6, 2]]\n",
    "y = [[0], [0], [0], [1], [1], [1]]\n",
    "x_train = torch.FloatTensor(x)\n",
    "y_train = torch.FloatTensor(y)"
   ]
  },
  {
   "cell_type": "code",
   "execution_count": 19,
   "metadata": {},
   "outputs": [],
   "source": [
    "class BinaryClassifier(nn.Module):\n",
    "    def __init__(self):\n",
    "        super().__init__()\n",
    "        self.linear = nn.Linear(2, 1)\n",
    "        self.sigmoid = nn.Sigmoid()\n",
    "\n",
    "    def forward(self, x):\n",
    "        return self.sigmoid(self.linear(x))\n"
   ]
  },
  {
   "cell_type": "code",
   "execution_count": 20,
   "metadata": {},
   "outputs": [],
   "source": [
    "model = BinaryClassifier()"
   ]
  },
  {
   "cell_type": "code",
   "execution_count": 21,
   "metadata": {},
   "outputs": [
    {
     "name": "stdout",
     "output_type": "stream",
     "text": [
      "Epoch    0/1000 Cost: 1.499175 Accuracy 50.00%\n",
      "Epoch   10/1000 Cost: 0.485576 Accuracy 66.67%\n",
      "Epoch   20/1000 Cost: 0.429588 Accuracy 66.67%\n",
      "Epoch   30/1000 Cost: 0.363323 Accuracy 83.33%\n",
      "Epoch   40/1000 Cost: 0.307816 Accuracy 83.33%\n",
      "Epoch   50/1000 Cost: 0.258358 Accuracy 83.33%\n",
      "Epoch   60/1000 Cost: 0.213604 Accuracy 100.00%\n",
      "Epoch   70/1000 Cost: 0.176996 Accuracy 100.00%\n",
      "Epoch   80/1000 Cost: 0.154625 Accuracy 100.00%\n",
      "Epoch   90/1000 Cost: 0.142376 Accuracy 100.00%\n",
      "Epoch  100/1000 Cost: 0.132809 Accuracy 100.00%\n",
      "Epoch  110/1000 Cost: 0.124488 Accuracy 100.00%\n",
      "Epoch  120/1000 Cost: 0.117166 Accuracy 100.00%\n",
      "Epoch  130/1000 Cost: 0.110674 Accuracy 100.00%\n",
      "Epoch  140/1000 Cost: 0.104878 Accuracy 100.00%\n",
      "Epoch  150/1000 Cost: 0.099672 Accuracy 100.00%\n",
      "Epoch  160/1000 Cost: 0.094970 Accuracy 100.00%\n",
      "Epoch  170/1000 Cost: 0.090702 Accuracy 100.00%\n",
      "Epoch  180/1000 Cost: 0.086810 Accuracy 100.00%\n",
      "Epoch  190/1000 Cost: 0.083246 Accuracy 100.00%\n",
      "Epoch  200/1000 Cost: 0.079971 Accuracy 100.00%\n",
      "Epoch  210/1000 Cost: 0.076950 Accuracy 100.00%\n",
      "Epoch  220/1000 Cost: 0.074154 Accuracy 100.00%\n",
      "Epoch  230/1000 Cost: 0.071560 Accuracy 100.00%\n",
      "Epoch  240/1000 Cost: 0.069145 Accuracy 100.00%\n",
      "Epoch  250/1000 Cost: 0.066892 Accuracy 100.00%\n",
      "Epoch  260/1000 Cost: 0.064784 Accuracy 100.00%\n",
      "Epoch  270/1000 Cost: 0.062809 Accuracy 100.00%\n",
      "Epoch  280/1000 Cost: 0.060953 Accuracy 100.00%\n",
      "Epoch  290/1000 Cost: 0.059206 Accuracy 100.00%\n",
      "Epoch  300/1000 Cost: 0.057559 Accuracy 100.00%\n",
      "Epoch  310/1000 Cost: 0.056003 Accuracy 100.00%\n",
      "Epoch  320/1000 Cost: 0.054530 Accuracy 100.00%\n",
      "Epoch  330/1000 Cost: 0.053135 Accuracy 100.00%\n",
      "Epoch  340/1000 Cost: 0.051811 Accuracy 100.00%\n",
      "Epoch  350/1000 Cost: 0.050553 Accuracy 100.00%\n",
      "Epoch  360/1000 Cost: 0.049355 Accuracy 100.00%\n",
      "Epoch  370/1000 Cost: 0.048214 Accuracy 100.00%\n",
      "Epoch  380/1000 Cost: 0.047126 Accuracy 100.00%\n",
      "Epoch  390/1000 Cost: 0.046086 Accuracy 100.00%\n",
      "Epoch  400/1000 Cost: 0.045093 Accuracy 100.00%\n",
      "Epoch  410/1000 Cost: 0.044142 Accuracy 100.00%\n",
      "Epoch  420/1000 Cost: 0.043231 Accuracy 100.00%\n",
      "Epoch  430/1000 Cost: 0.042357 Accuracy 100.00%\n",
      "Epoch  440/1000 Cost: 0.041519 Accuracy 100.00%\n",
      "Epoch  450/1000 Cost: 0.040714 Accuracy 100.00%\n",
      "Epoch  460/1000 Cost: 0.039940 Accuracy 100.00%\n",
      "Epoch  470/1000 Cost: 0.039195 Accuracy 100.00%\n",
      "Epoch  480/1000 Cost: 0.038479 Accuracy 100.00%\n",
      "Epoch  490/1000 Cost: 0.037788 Accuracy 100.00%\n",
      "Epoch  500/1000 Cost: 0.037122 Accuracy 100.00%\n",
      "Epoch  510/1000 Cost: 0.036479 Accuracy 100.00%\n",
      "Epoch  520/1000 Cost: 0.035859 Accuracy 100.00%\n",
      "Epoch  530/1000 Cost: 0.035259 Accuracy 100.00%\n",
      "Epoch  540/1000 Cost: 0.034680 Accuracy 100.00%\n",
      "Epoch  550/1000 Cost: 0.034120 Accuracy 100.00%\n",
      "Epoch  560/1000 Cost: 0.033577 Accuracy 100.00%\n",
      "Epoch  570/1000 Cost: 0.033052 Accuracy 100.00%\n",
      "Epoch  580/1000 Cost: 0.032544 Accuracy 100.00%\n",
      "Epoch  590/1000 Cost: 0.032051 Accuracy 100.00%\n",
      "Epoch  600/1000 Cost: 0.031572 Accuracy 100.00%\n",
      "Epoch  610/1000 Cost: 0.031108 Accuracy 100.00%\n",
      "Epoch  620/1000 Cost: 0.030658 Accuracy 100.00%\n",
      "Epoch  630/1000 Cost: 0.030221 Accuracy 100.00%\n",
      "Epoch  640/1000 Cost: 0.029796 Accuracy 100.00%\n",
      "Epoch  650/1000 Cost: 0.029383 Accuracy 100.00%\n",
      "Epoch  660/1000 Cost: 0.028981 Accuracy 100.00%\n",
      "Epoch  670/1000 Cost: 0.028591 Accuracy 100.00%\n",
      "Epoch  680/1000 Cost: 0.028211 Accuracy 100.00%\n",
      "Epoch  690/1000 Cost: 0.027841 Accuracy 100.00%\n",
      "Epoch  700/1000 Cost: 0.027480 Accuracy 100.00%\n",
      "Epoch  710/1000 Cost: 0.027129 Accuracy 100.00%\n",
      "Epoch  720/1000 Cost: 0.026787 Accuracy 100.00%\n",
      "Epoch  730/1000 Cost: 0.026454 Accuracy 100.00%\n",
      "Epoch  740/1000 Cost: 0.026129 Accuracy 100.00%\n",
      "Epoch  750/1000 Cost: 0.025811 Accuracy 100.00%\n",
      "Epoch  760/1000 Cost: 0.025502 Accuracy 100.00%\n",
      "Epoch  770/1000 Cost: 0.025200 Accuracy 100.00%\n",
      "Epoch  780/1000 Cost: 0.024905 Accuracy 100.00%\n",
      "Epoch  790/1000 Cost: 0.024617 Accuracy 100.00%\n",
      "Epoch  800/1000 Cost: 0.024335 Accuracy 100.00%\n",
      "Epoch  810/1000 Cost: 0.024060 Accuracy 100.00%\n",
      "Epoch  820/1000 Cost: 0.023791 Accuracy 100.00%\n",
      "Epoch  830/1000 Cost: 0.023529 Accuracy 100.00%\n",
      "Epoch  840/1000 Cost: 0.023272 Accuracy 100.00%\n",
      "Epoch  850/1000 Cost: 0.023020 Accuracy 100.00%\n",
      "Epoch  860/1000 Cost: 0.022774 Accuracy 100.00%\n",
      "Epoch  870/1000 Cost: 0.022533 Accuracy 100.00%\n",
      "Epoch  880/1000 Cost: 0.022298 Accuracy 100.00%\n",
      "Epoch  890/1000 Cost: 0.022067 Accuracy 100.00%\n",
      "Epoch  900/1000 Cost: 0.021841 Accuracy 100.00%\n",
      "Epoch  910/1000 Cost: 0.021619 Accuracy 100.00%\n",
      "Epoch  920/1000 Cost: 0.021402 Accuracy 100.00%\n",
      "Epoch  930/1000 Cost: 0.021190 Accuracy 100.00%\n",
      "Epoch  940/1000 Cost: 0.020982 Accuracy 100.00%\n",
      "Epoch  950/1000 Cost: 0.020777 Accuracy 100.00%\n",
      "Epoch  960/1000 Cost: 0.020577 Accuracy 100.00%\n",
      "Epoch  970/1000 Cost: 0.020380 Accuracy 100.00%\n",
      "Epoch  980/1000 Cost: 0.020188 Accuracy 100.00%\n",
      "Epoch  990/1000 Cost: 0.019999 Accuracy 100.00%\n",
      "Epoch 1000/1000 Cost: 0.019813 Accuracy 100.00%\n"
     ]
    }
   ],
   "source": [
    "optimizer = optim.SGD(model.parameters(), lr=1)\n",
    "\n",
    "nb_epochs = 1000\n",
    "for epoch in range(nb_epochs + 1):\n",
    "\n",
    "    hypothesis = model(x_train)\n",
    "    cost = F.binary_cross_entropy(hypothesis, y_train)\n",
    "\n",
    "    optimizer.zero_grad()\n",
    "    cost.backward()\n",
    "    optimizer.step()\n",
    "    \n",
    "    if epoch % 10 == 0:\n",
    "        prediction = hypothesis >= torch.FloatTensor([0.5]) # 예측값이 0.5를 넘으면 True로 간주\n",
    "        correct_prediction = prediction.float() == y_train # 실제값과 일치하는 경우만 True로 간주\n",
    "        accuracy = correct_prediction.sum().item() / len(correct_prediction) # 정확도를 계산\n",
    "        print('Epoch {:4d}/{} Cost: {:.6f} Accuracy {:2.2f}%'.format( # 각 에포크마다 정확도를 출력\n",
    "            epoch, nb_epochs, cost.item(), accuracy * 100,\n",
    "        ))"
   ]
  }
 ],
 "metadata": {
  "kernelspec": {
   "display_name": "Python 3.9.7 ('base')",
   "language": "python",
   "name": "python3"
  },
  "language_info": {
   "codemirror_mode": {
    "name": "ipython",
    "version": 3
   },
   "file_extension": ".py",
   "mimetype": "text/x-python",
   "name": "python",
   "nbconvert_exporter": "python",
   "pygments_lexer": "ipython3",
   "version": "3.9.7"
  },
  "orig_nbformat": 4,
  "vscode": {
   "interpreter": {
    "hash": "fc8214fa935b74cd2993506950db861c39f3b536af543597dc14393642024e69"
   }
  }
 },
 "nbformat": 4,
 "nbformat_minor": 2
}
