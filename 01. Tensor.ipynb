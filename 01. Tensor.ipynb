{
 "cells": [
  {
   "cell_type": "markdown",
   "metadata": {},
   "source": [
    "# Tensor"
   ]
  },
  {
   "cell_type": "markdown",
   "metadata": {},
   "source": [
    "2D Tensor = (batchsize, dimension)  \n",
    "3D Tensor = (batchsize, length, dimension)"
   ]
  },
  {
   "cell_type": "code",
   "execution_count": 2,
   "metadata": {},
   "outputs": [],
   "source": [
    "import torch\n",
    "import numpy as np"
   ]
  },
  {
   "cell_type": "code",
   "execution_count": 24,
   "metadata": {},
   "outputs": [
    {
     "name": "stdout",
     "output_type": "stream",
     "text": [
      "Rank of t: 2\n",
      "shape of t: (4, 3)\n"
     ]
    }
   ],
   "source": [
    "# numpy 2D\n",
    "t = np.array([[1., 2., 3.],\n",
    "              [4., 5., 6.],\n",
    "              [7., 8., 9.], \n",
    "              [10., 11., 12.]])\n",
    "\n",
    "print(\"Rank of t:\", t.ndim)\n",
    "print(\"shape of t:\", t.shape)"
   ]
  },
  {
   "cell_type": "code",
   "execution_count": 25,
   "metadata": {},
   "outputs": [
    {
     "data": {
      "text/plain": [
       "array([[ 3.],\n",
       "       [ 6.],\n",
       "       [ 9.],\n",
       "       [12.]])"
      ]
     },
     "execution_count": 25,
     "metadata": {},
     "output_type": "execute_result"
    }
   ],
   "source": [
    "t[:, 2:]"
   ]
  },
  {
   "cell_type": "code",
   "execution_count": 26,
   "metadata": {},
   "outputs": [
    {
     "name": "stdout",
     "output_type": "stream",
     "text": [
      "Rank of t: 2\n",
      "shape of t: torch.Size([4, 3])\n"
     ]
    }
   ],
   "source": [
    "# torch 2D\n",
    "t = torch.FloatTensor([[1., 2., 3.],\n",
    "                       [4., 5., 6.],\n",
    "                       [7., 8., 9.], \n",
    "                       [10., 11., 12.]])\n",
    "\n",
    "print(\"Rank of t:\", t.ndim)\n",
    "print(\"shape of t:\", t.shape)"
   ]
  },
  {
   "cell_type": "code",
   "execution_count": 27,
   "metadata": {},
   "outputs": [
    {
     "data": {
      "text/plain": [
       "tensor([[ 3.],\n",
       "        [ 6.],\n",
       "        [ 9.],\n",
       "        [12.]])"
      ]
     },
     "execution_count": 27,
     "metadata": {},
     "output_type": "execute_result"
    }
   ],
   "source": [
    "t[:, 2:]"
   ]
  },
  {
   "cell_type": "code",
   "execution_count": 30,
   "metadata": {},
   "outputs": [
    {
     "name": "stdout",
     "output_type": "stream",
     "text": [
      "tensor([[ 4.,  5.,  6.],\n",
      "        [10., 11., 12.],\n",
      "        [16., 17., 18.],\n",
      "        [22., 23., 24.]])\n"
     ]
    }
   ],
   "source": [
    "# BroadCasting\n",
    "a = t[:, 2:]\n",
    "print(a+t)"
   ]
  },
  {
   "cell_type": "code",
   "execution_count": 38,
   "metadata": {},
   "outputs": [
    {
     "name": "stdout",
     "output_type": "stream",
     "text": [
      "Matrix Multiplication:\n",
      " tensor([[ 3.,  5.],\n",
      "        [ 9., 11.]]) \n",
      "\n",
      "element-wise Multiplication by *:\n",
      " tensor([[3., 2.],\n",
      "        [0., 8.]]) \n",
      "\n",
      "element-wise Multiplication by mul:\n",
      " tensor([[3., 2.],\n",
      "        [0., 8.]])\n"
     ]
    }
   ],
   "source": [
    "# Matrix Multiplication VS element-wise mul\n",
    "m1 = torch.FloatTensor([[1, 2], \n",
    "                        [3, 4]])\n",
    "                        \n",
    "m2 = torch.FloatTensor([[3, 1], \n",
    "                        [0, 2]])\n",
    "print(\"Matrix Multiplication:\\n\", m1.matmul(m2), \"\\n\")\n",
    "print(\"element-wise Multiplication by *:\\n\", m1 * m2, \"\\n\")\n",
    "print(\"element-wise Multiplication by mul:\\n\", m1.mul(m2))"
   ]
  },
  {
   "cell_type": "code",
   "execution_count": 39,
   "metadata": {},
   "outputs": [
    {
     "name": "stdout",
     "output_type": "stream",
     "text": [
      "tensor(2.5000)\n"
     ]
    }
   ],
   "source": [
    "t_mean = m1.mean()\n",
    "print(t_mean)"
   ]
  },
  {
   "cell_type": "code",
   "execution_count": 40,
   "metadata": {},
   "outputs": [
    {
     "name": "stdout",
     "output_type": "stream",
     "text": [
      "tensor([2., 3.])\n"
     ]
    }
   ],
   "source": [
    "t_mean = m1.mean(dim=0)\n",
    "print(t_mean)"
   ]
  },
  {
   "cell_type": "code",
   "execution_count": 41,
   "metadata": {},
   "outputs": [
    {
     "name": "stdout",
     "output_type": "stream",
     "text": [
      "tensor([1.5000, 3.5000])\n"
     ]
    }
   ],
   "source": [
    "t_mean = m1.mean(dim=1)\n",
    "print(t_mean)"
   ]
  },
  {
   "cell_type": "code",
   "execution_count": 43,
   "metadata": {},
   "outputs": [
    {
     "name": "stdout",
     "output_type": "stream",
     "text": [
      "tensor(10.)\n"
     ]
    }
   ],
   "source": [
    "t_sum = m1.sum()\n",
    "print(t_sum)"
   ]
  },
  {
   "cell_type": "code",
   "execution_count": 44,
   "metadata": {},
   "outputs": [
    {
     "name": "stdout",
     "output_type": "stream",
     "text": [
      "tensor([4., 6.])\n"
     ]
    }
   ],
   "source": [
    "t_sum = m1.sum(dim=0)\n",
    "print(t_sum)"
   ]
  },
  {
   "cell_type": "code",
   "execution_count": 49,
   "metadata": {},
   "outputs": [
    {
     "name": "stdout",
     "output_type": "stream",
     "text": [
      "torch.return_types.max(\n",
      "values=tensor([3., 4.]),\n",
      "indices=tensor([1, 1]))\n",
      "tensor([3., 4.])\n",
      "tensor([1, 1])\n"
     ]
    }
   ],
   "source": [
    "t_max = m1.max(dim=0)\n",
    "print(t_max)\n",
    "print(t_max[0])\n",
    "print(t_max[1])"
   ]
  },
  {
   "cell_type": "code",
   "execution_count": null,
   "metadata": {},
   "outputs": [],
   "source": []
  }
 ],
 "metadata": {
  "kernelspec": {
   "display_name": "Python 3.9.7 ('base')",
   "language": "python",
   "name": "python3"
  },
  "language_info": {
   "codemirror_mode": {
    "name": "ipython",
    "version": 3
   },
   "file_extension": ".py",
   "mimetype": "text/x-python",
   "name": "python",
   "nbconvert_exporter": "python",
   "pygments_lexer": "ipython3",
   "version": "3.9.7"
  },
  "orig_nbformat": 4,
  "vscode": {
   "interpreter": {
    "hash": "fc8214fa935b74cd2993506950db861c39f3b536af543597dc14393642024e69"
   }
  }
 },
 "nbformat": 4,
 "nbformat_minor": 2
}
