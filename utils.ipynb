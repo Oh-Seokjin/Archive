{
  "nbformat": 4,
  "nbformat_minor": 0,
  "metadata": {
    "colab": {
      "provenance": [],
      "collapsed_sections": [],
      "mount_file_id": "166q4XmDt6k1gQ9SfG2gPctN6_-EVbdoh",
      "authorship_tag": "ABX9TyPBVGqi7OGDvYP9bJRR/Ye1",
      "include_colab_link": true
    },
    "kernelspec": {
      "name": "python3",
      "display_name": "Python 3"
    },
    "language_info": {
      "name": "python"
    }
  },
  "cells": [
    {
      "cell_type": "markdown",
      "metadata": {
        "id": "view-in-github",
        "colab_type": "text"
      },
      "source": [
        "<a href=\"https://colab.research.google.com/github/Oh-Seokjin/MRC_goorm/blob/main/utils.ipynb\" target=\"_parent\"><img src=\"https://colab.research.google.com/assets/colab-badge.svg\" alt=\"Open In Colab\"/></a>"
      ]
    },
    {
      "cell_type": "code",
      "source": [
        "import pandas as pd"
      ],
      "metadata": {
        "id": "PePoTvmj5nf8"
      },
      "execution_count": null,
      "outputs": []
    },
    {
      "cell_type": "code",
      "source": [],
      "metadata": {
        "colab": {
          "base_uri": "https://localhost:8080/"
        },
        "id": "TClLV9UV5wdP",
        "outputId": "0d4678ab-00a8-4a8a-d505-459fd9936820"
      },
      "execution_count": null,
      "outputs": [
        {
          "output_type": "stream",
          "name": "stdout",
          "text": [
            "Drive already mounted at /content/drive; to attempt to forcibly remount, call drive.mount(\"/content/drive\", force_remount=True).\n"
          ]
        }
      ]
    },
    {
      "cell_type": "code",
      "source": [
        "dataset = pd.read_csv('/content/drive/MyDrive/Goorm/project02/kobigbird_ep10_max2048_lr6e-05_406.csv', encoding='utf-8')"
      ],
      "metadata": {
        "id": "HtkkCRA45Wmo"
      },
      "execution_count": null,
      "outputs": []
    },
    {
      "cell_type": "code",
      "source": [
        "len(dataset)"
      ],
      "metadata": {
        "colab": {
          "base_uri": "https://localhost:8080/"
        },
        "id": "Q9hcaWKZ1g9m",
        "outputId": "ab4d7e09-b470-4773-8e7e-8fd351e91241"
      },
      "execution_count": null,
      "outputs": [
        {
          "output_type": "execute_result",
          "data": {
            "text/plain": [
              "4008"
            ]
          },
          "metadata": {},
          "execution_count": 123
        }
      ]
    },
    {
      "cell_type": "code",
      "source": [
        "start_stop_words = [\"'\", '‘', '“', '\"', \"‘‘‘\", \"'''\", \"<\", \"《\", \"(\", \"[\", \"@\"]\n",
        "end_stop_words = [\"'\", \"’\", \"”\", '\"', \"'''\", \"’’’\", \"》\", \">\", \")\", \"]\", \"@\"]"
      ],
      "metadata": {
        "id": "bGCYaSEJ8O5V"
      },
      "execution_count": null,
      "outputs": []
    },
    {
      "cell_type": "code",
      "source": [
        "for i in range(len(dataset)):\n",
        "    for end_token in end_stop_words:\n",
        "        if type(dataset['Predicted'][i]) is str and dataset['Predicted'][i].endswith(end_token) and dataset['Predicted'][i][0] in start_stop_words:\n",
        "            dataset['Predicted'][i] = dataset['Predicted'][i][:len(dataset['Predicted'][i])-len(end_token)]\n",
        "    for start_token in start_stop_words:\n",
        "        if type(dataset['Predicted'][i]) is str and dataset['Predicted'][i].startswith(start_token):\n",
        "            dataset['Predicted'][i] = dataset['Predicted'][i][len(start_token):]"
      ],
      "metadata": {
        "id": "TNLpO4a_6GQf"
      },
      "execution_count": null,
      "outputs": []
    },
    {
      "cell_type": "code",
      "source": [
        "print(type(dataset['Predicted'][31]) == str)"
      ],
      "metadata": {
        "colab": {
          "base_uri": "https://localhost:8080/"
        },
        "id": "BNjV3FbZ0uGR",
        "outputId": "ad1f660d-63b3-4182-e851-9ed7fe243bc4"
      },
      "execution_count": null,
      "outputs": [
        {
          "output_type": "stream",
          "name": "stdout",
          "text": [
            "True\n"
          ]
        }
      ]
    },
    {
      "cell_type": "code",
      "source": [
        "dataset.to_csv('submission_bracket_removed.csv', index=False)"
      ],
      "metadata": {
        "id": "xF4IkWmx1_gu"
      },
      "execution_count": null,
      "outputs": []
    },
    {
      "cell_type": "code",
      "source": [
        "original = pd.read_csv('/content/kobigbird_ep10_max2048_lr6e-05_406.csv')\n",
        "removed = pd.read_csv('submission_bracket_removed.csv')"
      ],
      "metadata": {
        "id": "qBHlz3AG2Mql"
      },
      "execution_count": null,
      "outputs": []
    },
    {
      "cell_type": "code",
      "source": [
        "original"
      ],
      "metadata": {
        "colab": {
          "base_uri": "https://localhost:8080/",
          "height": 424
        },
        "id": "KwWJfBHK22Mu",
        "outputId": "5a236452-c705-4ebd-a50a-31437c309654"
      },
      "execution_count": null,
      "outputs": [
        {
          "output_type": "execute_result",
          "data": {
            "text/plain": [
              "                                    Id      Predicted\n",
              "0     d14cb73158624cf094c546d856fd3c80            NaN\n",
              "1     906631384e91493ebe1c7f34aea6f241      독일 뒤셀도르프로\n",
              "2     35e61dcb479643448a2cb7d326ae50a6           링크트인\n",
              "3     075e761b370040cb9041eecd39afc27c           링크트인\n",
              "4     e67ed38f3dd944be94d5b4c53731f334           마드리드\n",
              "...                                ...            ...\n",
              "4003  05fcb8054dc44dab8683579c2cf5e465  400만엔에서 200만엔\n",
              "4004  cc7f826b66724ce9b39e3a974ca15661       중동 건설 현장\n",
              "4005  3282034aa41e4fab980851ffd4a868dd      아시아~유럽 노선\n",
              "4006  0a73550b36df4baf82ac2f98619d22e7            10일\n",
              "4007  dfe6ef25f84f461e89e54d370e4521d5            벨기에\n",
              "\n",
              "[4008 rows x 2 columns]"
            ],
            "text/html": [
              "\n",
              "  <div id=\"df-8bbfded4-819a-482b-b408-eafa9f961bf6\">\n",
              "    <div class=\"colab-df-container\">\n",
              "      <div>\n",
              "<style scoped>\n",
              "    .dataframe tbody tr th:only-of-type {\n",
              "        vertical-align: middle;\n",
              "    }\n",
              "\n",
              "    .dataframe tbody tr th {\n",
              "        vertical-align: top;\n",
              "    }\n",
              "\n",
              "    .dataframe thead th {\n",
              "        text-align: right;\n",
              "    }\n",
              "</style>\n",
              "<table border=\"1\" class=\"dataframe\">\n",
              "  <thead>\n",
              "    <tr style=\"text-align: right;\">\n",
              "      <th></th>\n",
              "      <th>Id</th>\n",
              "      <th>Predicted</th>\n",
              "    </tr>\n",
              "  </thead>\n",
              "  <tbody>\n",
              "    <tr>\n",
              "      <th>0</th>\n",
              "      <td>d14cb73158624cf094c546d856fd3c80</td>\n",
              "      <td>NaN</td>\n",
              "    </tr>\n",
              "    <tr>\n",
              "      <th>1</th>\n",
              "      <td>906631384e91493ebe1c7f34aea6f241</td>\n",
              "      <td>독일 뒤셀도르프로</td>\n",
              "    </tr>\n",
              "    <tr>\n",
              "      <th>2</th>\n",
              "      <td>35e61dcb479643448a2cb7d326ae50a6</td>\n",
              "      <td>링크트인</td>\n",
              "    </tr>\n",
              "    <tr>\n",
              "      <th>3</th>\n",
              "      <td>075e761b370040cb9041eecd39afc27c</td>\n",
              "      <td>링크트인</td>\n",
              "    </tr>\n",
              "    <tr>\n",
              "      <th>4</th>\n",
              "      <td>e67ed38f3dd944be94d5b4c53731f334</td>\n",
              "      <td>마드리드</td>\n",
              "    </tr>\n",
              "    <tr>\n",
              "      <th>...</th>\n",
              "      <td>...</td>\n",
              "      <td>...</td>\n",
              "    </tr>\n",
              "    <tr>\n",
              "      <th>4003</th>\n",
              "      <td>05fcb8054dc44dab8683579c2cf5e465</td>\n",
              "      <td>400만엔에서 200만엔</td>\n",
              "    </tr>\n",
              "    <tr>\n",
              "      <th>4004</th>\n",
              "      <td>cc7f826b66724ce9b39e3a974ca15661</td>\n",
              "      <td>중동 건설 현장</td>\n",
              "    </tr>\n",
              "    <tr>\n",
              "      <th>4005</th>\n",
              "      <td>3282034aa41e4fab980851ffd4a868dd</td>\n",
              "      <td>아시아~유럽 노선</td>\n",
              "    </tr>\n",
              "    <tr>\n",
              "      <th>4006</th>\n",
              "      <td>0a73550b36df4baf82ac2f98619d22e7</td>\n",
              "      <td>10일</td>\n",
              "    </tr>\n",
              "    <tr>\n",
              "      <th>4007</th>\n",
              "      <td>dfe6ef25f84f461e89e54d370e4521d5</td>\n",
              "      <td>벨기에</td>\n",
              "    </tr>\n",
              "  </tbody>\n",
              "</table>\n",
              "<p>4008 rows × 2 columns</p>\n",
              "</div>\n",
              "      <button class=\"colab-df-convert\" onclick=\"convertToInteractive('df-8bbfded4-819a-482b-b408-eafa9f961bf6')\"\n",
              "              title=\"Convert this dataframe to an interactive table.\"\n",
              "              style=\"display:none;\">\n",
              "        \n",
              "  <svg xmlns=\"http://www.w3.org/2000/svg\" height=\"24px\"viewBox=\"0 0 24 24\"\n",
              "       width=\"24px\">\n",
              "    <path d=\"M0 0h24v24H0V0z\" fill=\"none\"/>\n",
              "    <path d=\"M18.56 5.44l.94 2.06.94-2.06 2.06-.94-2.06-.94-.94-2.06-.94 2.06-2.06.94zm-11 1L8.5 8.5l.94-2.06 2.06-.94-2.06-.94L8.5 2.5l-.94 2.06-2.06.94zm10 10l.94 2.06.94-2.06 2.06-.94-2.06-.94-.94-2.06-.94 2.06-2.06.94z\"/><path d=\"M17.41 7.96l-1.37-1.37c-.4-.4-.92-.59-1.43-.59-.52 0-1.04.2-1.43.59L10.3 9.45l-7.72 7.72c-.78.78-.78 2.05 0 2.83L4 21.41c.39.39.9.59 1.41.59.51 0 1.02-.2 1.41-.59l7.78-7.78 2.81-2.81c.8-.78.8-2.07 0-2.86zM5.41 20L4 18.59l7.72-7.72 1.47 1.35L5.41 20z\"/>\n",
              "  </svg>\n",
              "      </button>\n",
              "      \n",
              "  <style>\n",
              "    .colab-df-container {\n",
              "      display:flex;\n",
              "      flex-wrap:wrap;\n",
              "      gap: 12px;\n",
              "    }\n",
              "\n",
              "    .colab-df-convert {\n",
              "      background-color: #E8F0FE;\n",
              "      border: none;\n",
              "      border-radius: 50%;\n",
              "      cursor: pointer;\n",
              "      display: none;\n",
              "      fill: #1967D2;\n",
              "      height: 32px;\n",
              "      padding: 0 0 0 0;\n",
              "      width: 32px;\n",
              "    }\n",
              "\n",
              "    .colab-df-convert:hover {\n",
              "      background-color: #E2EBFA;\n",
              "      box-shadow: 0px 1px 2px rgba(60, 64, 67, 0.3), 0px 1px 3px 1px rgba(60, 64, 67, 0.15);\n",
              "      fill: #174EA6;\n",
              "    }\n",
              "\n",
              "    [theme=dark] .colab-df-convert {\n",
              "      background-color: #3B4455;\n",
              "      fill: #D2E3FC;\n",
              "    }\n",
              "\n",
              "    [theme=dark] .colab-df-convert:hover {\n",
              "      background-color: #434B5C;\n",
              "      box-shadow: 0px 1px 3px 1px rgba(0, 0, 0, 0.15);\n",
              "      filter: drop-shadow(0px 1px 2px rgba(0, 0, 0, 0.3));\n",
              "      fill: #FFFFFF;\n",
              "    }\n",
              "  </style>\n",
              "\n",
              "      <script>\n",
              "        const buttonEl =\n",
              "          document.querySelector('#df-8bbfded4-819a-482b-b408-eafa9f961bf6 button.colab-df-convert');\n",
              "        buttonEl.style.display =\n",
              "          google.colab.kernel.accessAllowed ? 'block' : 'none';\n",
              "\n",
              "        async function convertToInteractive(key) {\n",
              "          const element = document.querySelector('#df-8bbfded4-819a-482b-b408-eafa9f961bf6');\n",
              "          const dataTable =\n",
              "            await google.colab.kernel.invokeFunction('convertToInteractive',\n",
              "                                                     [key], {});\n",
              "          if (!dataTable) return;\n",
              "\n",
              "          const docLinkHtml = 'Like what you see? Visit the ' +\n",
              "            '<a target=\"_blank\" href=https://colab.research.google.com/notebooks/data_table.ipynb>data table notebook</a>'\n",
              "            + ' to learn more about interactive tables.';\n",
              "          element.innerHTML = '';\n",
              "          dataTable['output_type'] = 'display_data';\n",
              "          await google.colab.output.renderOutput(dataTable, element);\n",
              "          const docLink = document.createElement('div');\n",
              "          docLink.innerHTML = docLinkHtml;\n",
              "          element.appendChild(docLink);\n",
              "        }\n",
              "      </script>\n",
              "    </div>\n",
              "  </div>\n",
              "  "
            ]
          },
          "metadata": {},
          "execution_count": 129
        }
      ]
    },
    {
      "cell_type": "code",
      "source": [
        "cnt = 0\n",
        "\n",
        "for i in range(len(removed)):\n",
        "    if original['Predicted'][i] != removed['Predicted'][i]:\n",
        "        cnt += 1\n",
        "        print(original['Predicted'][i], removed['Predicted'][i])\n",
        "\n",
        "print(cnt)"
      ],
      "metadata": {
        "id": "WbfTQ4AM2crJ"
      },
      "execution_count": null,
      "outputs": []
    },
    {
      "cell_type": "code",
      "source": [],
      "metadata": {
        "id": "cXLD0rPMWbCo"
      },
      "execution_count": null,
      "outputs": []
    },
    {
      "cell_type": "markdown",
      "source": [
        "### Vote"
      ],
      "metadata": {
        "id": "VVnPFwu8soU8"
      }
    },
    {
      "cell_type": "code",
      "source": [
        "import pandas as pd"
      ],
      "metadata": {
        "id": "gI34y2wOlwkC"
      },
      "execution_count": null,
      "outputs": []
    },
    {
      "cell_type": "code",
      "source": [
        "from google.colab import drive\n",
        "drive.mount('/content/drive')"
      ],
      "metadata": {
        "colab": {
          "base_uri": "https://localhost:8080/"
        },
        "id": "rMT8SdldlzO2",
        "outputId": "15510f7a-713f-46c5-a58e-02f97880e74c"
      },
      "execution_count": null,
      "outputs": [
        {
          "output_type": "stream",
          "name": "stdout",
          "text": [
            "Drive already mounted at /content/drive; to attempt to forcibly remount, call drive.mount(\"/content/drive\", force_remount=True).\n"
          ]
        }
      ]
    },
    {
      "cell_type": "code",
      "source": [
        "'''\n",
        "1.  read_csv(비어있는 파일 생성 및 기존 결과)\n",
        "    3개의 submission으로 진행한다고 가정\n",
        "\n",
        "2.  hard vote 결과에 따라 최종 답안 결정\n",
        "    a. 2:1인 경우 2표인 답안으로 결정\n",
        "    b. 1:1:1인 경우 가장 점수가 높았던 제출본의 답안으로 결정\n",
        "'''\n",
        "\n",
        "submission1 = pd.read_csv('/content/drive/MyDrive/Goorm/project02/data/kobigbird_ep30_max2048_lr5e-05_4.csv') # 가장 높은 제출본본\n",
        "submission2 = pd.read_csv('/content/drive/MyDrive/Goorm/project02/data/kobigbird_ep10_max2048_lr6e-05_406.csv')\n",
        "submission3 = pd.read_csv('/content/drive/MyDrive/Goorm/project02/data/kobigbird_ep10_max2048_lr4e-05_batchsize_128.csv')\n",
        "\n",
        "final_submission = pd.read_csv('/content/drive/MyDrive/Goorm/project02/data/final_submission.csv') # 프로젝트 1처럼 비어 있는 제출본 만들어서 사용\n",
        "\n",
        "ensemble_predictions = []\n",
        "\n",
        "temp_pool = {}\n",
        "\n",
        "for i in range(1000): # 테스트셋 크기에 따라 넣어서 사용\n",
        "    # 딕셔너리에 넣어서, 값이 있으면 그 값에 vote해주고, 없으면 새로 생성\n",
        "    temp_pool[submission1['Predicted'][i]] = 1\n",
        "\n",
        "    if submission2['Predicted'][i] in temp_pool:\n",
        "        temp_pool[submission2['Predicted'][i]] = temp_pool[submission2['Predicted'][i]] +1\n",
        "    else:\n",
        "        temp_pool[submission2['Predicted'][i]] = 1\n",
        "\n",
        "    if submission3['Predicted'][i] in temp_pool:\n",
        "        temp_pool[submission3['Predicted'][i]] = temp_pool[submission3['Predicted'][i]] +1\n",
        "    else:\n",
        "        temp_pool[submission3['Predicted'][i]] = 1\n",
        "    \n",
        "#     temp_pool = sorted(temp_pool.items(), key = lambda item: item[1], reverse=True)\n",
        "\n",
        "#     # 2:1인 경우\n",
        "#     if len(temp_pool) == 2: \n",
        "#         ensemble_predictions.append(temp_pool[0])\n",
        "#     # 1:1:1인 경우\n",
        "#     elif len(temp_pool) == 3:\n",
        "#         ensemble_predictions.append(submission1['Predicted'][i]) # 가장 점수 높은 제출본의 답안으로 결정 ex) \n",
        "\n",
        "# final_submission['Predicted'] = ensemble_predictions\n",
        "\n",
        "# final_submission.to_csv('submission_ensemble.csv', index=False)"
      ],
      "metadata": {
        "id": "H8DSBbqGuZog"
      },
      "execution_count": null,
      "outputs": []
    },
    {
      "cell_type": "code",
      "source": [
        "'34.7%' in temp_pool"
      ],
      "metadata": {
        "id": "QgoFFhFQuqCM",
        "colab": {
          "base_uri": "https://localhost:8080/"
        },
        "outputId": "e2015bf1-ee78-4126-c7f0-201e8f62c9dd"
      },
      "execution_count": null,
      "outputs": [
        {
          "output_type": "execute_result",
          "data": {
            "text/plain": [
              "True"
            ]
          },
          "metadata": {},
          "execution_count": 18
        }
      ]
    },
    {
      "cell_type": "code",
      "source": [
        "temp_pool['34.7%'] += 1"
      ],
      "metadata": {
        "id": "IBsoJZcEoWiE"
      },
      "execution_count": null,
      "outputs": []
    },
    {
      "cell_type": "code",
      "source": [
        "temp_pool"
      ],
      "metadata": {
        "id": "I2UU-_kao3uW"
      },
      "execution_count": null,
      "outputs": []
    },
    {
      "cell_type": "code",
      "source": [],
      "metadata": {
        "id": "ETTr6xNoo7i-"
      },
      "execution_count": null,
      "outputs": []
    }
  ]
}