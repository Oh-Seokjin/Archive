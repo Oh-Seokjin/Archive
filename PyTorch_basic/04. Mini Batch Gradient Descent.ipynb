{
 "cells": [
  {
   "cell_type": "markdown",
   "metadata": {},
   "source": [
    "# Mini Batch Gradient Descent"
   ]
  },
  {
   "cell_type": "code",
   "execution_count": 1,
   "metadata": {},
   "outputs": [],
   "source": [
    "import torch\n",
    "import torch.nn as nn\n",
    "import torch.nn.functional as F\n",
    "\n",
    "from torch.utils.data import TensorDataset\n",
    "from torch.utils.data import DataLoader"
   ]
  },
  {
   "cell_type": "code",
   "execution_count": 2,
   "metadata": {},
   "outputs": [],
   "source": [
    "x_train = torch.FloatTensor([[73, 80, 75],\n",
    "                             [93, 88, 93],\n",
    "                             [89, 91, 90],\n",
    "                             [96, 98, 100],\n",
    "                             [73, 66, 70]])\n",
    "y_train = torch.FloatTensor([[152], [185], [180], [196], [142]])\n"
   ]
  },
  {
   "cell_type": "code",
   "execution_count": 4,
   "metadata": {},
   "outputs": [],
   "source": [
    "dataset = TensorDataset(x_train, y_train)\n",
    "dataloader = DataLoader(dataset, batch_size=2, shuffle=True)\n",
    "model = nn.Linear(3, 1)\n",
    "optimizer = torch.optim.SGD(model.parameters(), lr=1e-5)"
   ]
  },
  {
   "cell_type": "code",
   "execution_count": 6,
   "metadata": {},
   "outputs": [
    {
     "name": "stdout",
     "output_type": "stream",
     "text": [
      "Epoch    0/20 Batch 1/3 Cost: 1.004796\n",
      "Epoch    0/20 Batch 2/3 Cost: 0.813546\n",
      "Epoch    0/20 Batch 3/3 Cost: 2.686946\n",
      "Epoch    1/20 Batch 1/3 Cost: 2.065817\n",
      "Epoch    1/20 Batch 2/3 Cost: 0.697664\n",
      "Epoch    1/20 Batch 3/3 Cost: 1.271916\n",
      "Epoch    2/20 Batch 1/3 Cost: 0.273466\n",
      "Epoch    2/20 Batch 2/3 Cost: 1.127421\n",
      "Epoch    2/20 Batch 3/3 Cost: 2.960557\n",
      "Epoch    3/20 Batch 1/3 Cost: 1.296148\n",
      "Epoch    3/20 Batch 2/3 Cost: 1.667242\n",
      "Epoch    3/20 Batch 3/3 Cost: 0.046230\n",
      "Epoch    4/20 Batch 1/3 Cost: 1.230811\n",
      "Epoch    4/20 Batch 2/3 Cost: 1.460929\n",
      "Epoch    4/20 Batch 3/3 Cost: 0.717487\n",
      "Epoch    5/20 Batch 1/3 Cost: 1.531043\n",
      "Epoch    5/20 Batch 2/3 Cost: 0.991679\n",
      "Epoch    5/20 Batch 3/3 Cost: 0.961439\n",
      "Epoch    6/20 Batch 1/3 Cost: 1.115654\n",
      "Epoch    6/20 Batch 2/3 Cost: 0.739821\n",
      "Epoch    6/20 Batch 3/3 Cost: 2.586111\n",
      "Epoch    7/20 Batch 1/3 Cost: 2.305110\n",
      "Epoch    7/20 Batch 2/3 Cost: 0.770639\n",
      "Epoch    7/20 Batch 3/3 Cost: 0.340290\n",
      "Epoch    8/20 Batch 1/3 Cost: 0.160523\n",
      "Epoch    8/20 Batch 2/3 Cost: 2.124695\n",
      "Epoch    8/20 Batch 3/3 Cost: 0.829635\n",
      "Epoch    9/20 Batch 1/3 Cost: 0.957828\n",
      "Epoch    9/20 Batch 2/3 Cost: 0.620934\n",
      "Epoch    9/20 Batch 3/3 Cost: 2.707796\n",
      "Epoch   10/20 Batch 1/3 Cost: 0.242929\n",
      "Epoch   10/20 Batch 2/3 Cost: 3.443396\n",
      "Epoch   10/20 Batch 3/3 Cost: 0.055182\n",
      "Epoch   11/20 Batch 1/3 Cost: 1.049661\n",
      "Epoch   11/20 Batch 2/3 Cost: 0.512286\n",
      "Epoch   11/20 Batch 3/3 Cost: 2.706541\n",
      "Epoch   12/20 Batch 1/3 Cost: 0.637388\n",
      "Epoch   12/20 Batch 2/3 Cost: 1.335791\n",
      "Epoch   12/20 Batch 3/3 Cost: 2.666376\n",
      "Epoch   13/20 Batch 1/3 Cost: 0.640225\n",
      "Epoch   13/20 Batch 2/3 Cost: 1.371679\n",
      "Epoch   13/20 Batch 3/3 Cost: 2.815305\n",
      "Epoch   14/20 Batch 1/3 Cost: 2.442245\n",
      "Epoch   14/20 Batch 2/3 Cost: 0.439078\n",
      "Epoch   14/20 Batch 3/3 Cost: 0.015133\n",
      "Epoch   15/20 Batch 1/3 Cost: 1.310029\n",
      "Epoch   15/20 Batch 2/3 Cost: 1.316737\n",
      "Epoch   15/20 Batch 3/3 Cost: 0.735303\n",
      "Epoch   16/20 Batch 1/3 Cost: 1.402157\n",
      "Epoch   16/20 Batch 2/3 Cost: 1.338876\n",
      "Epoch   16/20 Batch 3/3 Cost: 0.797104\n",
      "Epoch   17/20 Batch 1/3 Cost: 0.167176\n",
      "Epoch   17/20 Batch 2/3 Cost: 2.094847\n",
      "Epoch   17/20 Batch 3/3 Cost: 0.724977\n",
      "Epoch   18/20 Batch 1/3 Cost: 0.090478\n",
      "Epoch   18/20 Batch 2/3 Cost: 2.322817\n",
      "Epoch   18/20 Batch 3/3 Cost: 0.551409\n",
      "Epoch   19/20 Batch 1/3 Cost: 1.571922\n",
      "Epoch   19/20 Batch 2/3 Cost: 1.517239\n",
      "Epoch   19/20 Batch 3/3 Cost: 1.210416\n",
      "Epoch   20/20 Batch 1/3 Cost: 1.320764\n",
      "Epoch   20/20 Batch 2/3 Cost: 0.103112\n",
      "Epoch   20/20 Batch 3/3 Cost: 2.961449\n"
     ]
    }
   ],
   "source": [
    "nb_epochs = 20\n",
    "for epoch in range(nb_epochs+1):\n",
    "    for batch_idx, samples in enumerate(dataloader):\n",
    "        x_train, y_train = samples\n",
    "        prediction = model(x_train)\n",
    "        cost = F.mse_loss(prediction, y_train)\n",
    "\n",
    "        optimizer.zero_grad()\n",
    "        cost.backward()\n",
    "        optimizer.step()\n",
    "        \n",
    "        print('Epoch {:4d}/{} Batch {}/{} Cost: {:.6f}'.format(\n",
    "            epoch, nb_epochs, batch_idx+1, len(dataloader),\n",
    "            cost.item()\n",
    "        ))"
   ]
  },
  {
   "cell_type": "code",
   "execution_count": 10,
   "metadata": {},
   "outputs": [
    {
     "name": "stdout",
     "output_type": "stream",
     "text": [
      "tensor([[151.2889]], grad_fn=<AddmmBackward0>)\n"
     ]
    }
   ],
   "source": [
    "print(model(torch.FloatTensor([[73, 80, 75]])))"
   ]
  },
  {
   "cell_type": "code",
   "execution_count": 11,
   "metadata": {},
   "outputs": [
    {
     "name": "stdout",
     "output_type": "stream",
     "text": [
      "1.10.2\n"
     ]
    }
   ],
   "source": [
    "print(torch.__version__)"
   ]
  }
 ],
 "metadata": {
  "kernelspec": {
   "display_name": "Python 3.9.7 ('base')",
   "language": "python",
   "name": "python3"
  },
  "language_info": {
   "codemirror_mode": {
    "name": "ipython",
    "version": 3
   },
   "file_extension": ".py",
   "mimetype": "text/x-python",
   "name": "python",
   "nbconvert_exporter": "python",
   "pygments_lexer": "ipython3",
   "version": "3.9.7"
  },
  "orig_nbformat": 4,
  "vscode": {
   "interpreter": {
    "hash": "fc8214fa935b74cd2993506950db861c39f3b536af543597dc14393642024e69"
   }
  }
 },
 "nbformat": 4,
 "nbformat_minor": 2
}
