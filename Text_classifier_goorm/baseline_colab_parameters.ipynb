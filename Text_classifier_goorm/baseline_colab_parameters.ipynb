{
  "metadata": {
    "kernelspec": {
      "language": "python",
      "display_name": "Python 3",
      "name": "python3"
    },
    "language_info": {
      "pygments_lexer": "ipython3",
      "nbconvert_exporter": "python",
      "version": "3.6.4",
      "file_extension": ".py",
      "codemirror_mode": {
        "name": "ipython",
        "version": 3
      },
      "name": "python",
      "mimetype": "text/x-python"
    },
    "colab": {
      "provenance": [],
      "collapsed_sections": [],
      "machine_shape": "hm",
      "include_colab_link": true
    },
    "accelerator": "GPU",
    "widgets": {
      "application/vnd.jupyter.widget-state+json": {
        "1cc0f3cede04418eba78498fd04d6cef": {
          "model_module": "@jupyter-widgets/controls",
          "model_name": "HBoxModel",
          "model_module_version": "1.5.0",
          "state": {
            "_dom_classes": [],
            "_model_module": "@jupyter-widgets/controls",
            "_model_module_version": "1.5.0",
            "_model_name": "HBoxModel",
            "_view_count": null,
            "_view_module": "@jupyter-widgets/controls",
            "_view_module_version": "1.5.0",
            "_view_name": "HBoxView",
            "box_style": "",
            "children": [
              "IPY_MODEL_40d839e6ae244910951c3cb9c9e8dc39",
              "IPY_MODEL_9404d9e434124b25b383ba8ca1fe1628",
              "IPY_MODEL_104db5e6c8a549039005f0027aa7582f"
            ],
            "layout": "IPY_MODEL_d65da6e3cb6d4263a2bba1a97305811a"
          }
        },
        "40d839e6ae244910951c3cb9c9e8dc39": {
          "model_module": "@jupyter-widgets/controls",
          "model_name": "HTMLModel",
          "model_module_version": "1.5.0",
          "state": {
            "_dom_classes": [],
            "_model_module": "@jupyter-widgets/controls",
            "_model_module_version": "1.5.0",
            "_model_name": "HTMLModel",
            "_view_count": null,
            "_view_module": "@jupyter-widgets/controls",
            "_view_module_version": "1.5.0",
            "_view_name": "HTMLView",
            "description": "",
            "description_tooltip": null,
            "layout": "IPY_MODEL_e5d2e209c7aa4436b2c067ca29430815",
            "placeholder": "​",
            "style": "IPY_MODEL_6921dbfc8aba47abb0f0a221525b41b3",
            "value": ""
          }
        },
        "9404d9e434124b25b383ba8ca1fe1628": {
          "model_module": "@jupyter-widgets/controls",
          "model_name": "FloatProgressModel",
          "model_module_version": "1.5.0",
          "state": {
            "_dom_classes": [],
            "_model_module": "@jupyter-widgets/controls",
            "_model_module_version": "1.5.0",
            "_model_name": "FloatProgressModel",
            "_view_count": null,
            "_view_module": "@jupyter-widgets/controls",
            "_view_module_version": "1.5.0",
            "_view_name": "ProgressView",
            "bar_style": "success",
            "description": "",
            "description_tooltip": null,
            "layout": "IPY_MODEL_5a91e6fd40574301a1dd33149acf5b61",
            "max": 1,
            "min": 0,
            "orientation": "horizontal",
            "style": "IPY_MODEL_776bd791db5e42e8a388fd569e8cc3eb",
            "value": 0
          }
        },
        "104db5e6c8a549039005f0027aa7582f": {
          "model_module": "@jupyter-widgets/controls",
          "model_name": "HTMLModel",
          "model_module_version": "1.5.0",
          "state": {
            "_dom_classes": [],
            "_model_module": "@jupyter-widgets/controls",
            "_model_module_version": "1.5.0",
            "_model_name": "HTMLModel",
            "_view_count": null,
            "_view_module": "@jupyter-widgets/controls",
            "_view_module_version": "1.5.0",
            "_view_name": "HTMLView",
            "description": "",
            "description_tooltip": null,
            "layout": "IPY_MODEL_dec8cbd8045b42ffa8c5ab8c0e722c45",
            "placeholder": "​",
            "style": "IPY_MODEL_0ee0e16b0cc94d41a39e2b56a081b7f5",
            "value": " 0/0 [00:00&lt;?, ?it/s]"
          }
        },
        "d65da6e3cb6d4263a2bba1a97305811a": {
          "model_module": "@jupyter-widgets/base",
          "model_name": "LayoutModel",
          "model_module_version": "1.2.0",
          "state": {
            "_model_module": "@jupyter-widgets/base",
            "_model_module_version": "1.2.0",
            "_model_name": "LayoutModel",
            "_view_count": null,
            "_view_module": "@jupyter-widgets/base",
            "_view_module_version": "1.2.0",
            "_view_name": "LayoutView",
            "align_content": null,
            "align_items": null,
            "align_self": null,
            "border": null,
            "bottom": null,
            "display": null,
            "flex": null,
            "flex_flow": null,
            "grid_area": null,
            "grid_auto_columns": null,
            "grid_auto_flow": null,
            "grid_auto_rows": null,
            "grid_column": null,
            "grid_gap": null,
            "grid_row": null,
            "grid_template_areas": null,
            "grid_template_columns": null,
            "grid_template_rows": null,
            "height": null,
            "justify_content": null,
            "justify_items": null,
            "left": null,
            "margin": null,
            "max_height": null,
            "max_width": null,
            "min_height": null,
            "min_width": null,
            "object_fit": null,
            "object_position": null,
            "order": null,
            "overflow": null,
            "overflow_x": null,
            "overflow_y": null,
            "padding": null,
            "right": null,
            "top": null,
            "visibility": null,
            "width": null
          }
        },
        "e5d2e209c7aa4436b2c067ca29430815": {
          "model_module": "@jupyter-widgets/base",
          "model_name": "LayoutModel",
          "model_module_version": "1.2.0",
          "state": {
            "_model_module": "@jupyter-widgets/base",
            "_model_module_version": "1.2.0",
            "_model_name": "LayoutModel",
            "_view_count": null,
            "_view_module": "@jupyter-widgets/base",
            "_view_module_version": "1.2.0",
            "_view_name": "LayoutView",
            "align_content": null,
            "align_items": null,
            "align_self": null,
            "border": null,
            "bottom": null,
            "display": null,
            "flex": null,
            "flex_flow": null,
            "grid_area": null,
            "grid_auto_columns": null,
            "grid_auto_flow": null,
            "grid_auto_rows": null,
            "grid_column": null,
            "grid_gap": null,
            "grid_row": null,
            "grid_template_areas": null,
            "grid_template_columns": null,
            "grid_template_rows": null,
            "height": null,
            "justify_content": null,
            "justify_items": null,
            "left": null,
            "margin": null,
            "max_height": null,
            "max_width": null,
            "min_height": null,
            "min_width": null,
            "object_fit": null,
            "object_position": null,
            "order": null,
            "overflow": null,
            "overflow_x": null,
            "overflow_y": null,
            "padding": null,
            "right": null,
            "top": null,
            "visibility": null,
            "width": null
          }
        },
        "6921dbfc8aba47abb0f0a221525b41b3": {
          "model_module": "@jupyter-widgets/controls",
          "model_name": "DescriptionStyleModel",
          "model_module_version": "1.5.0",
          "state": {
            "_model_module": "@jupyter-widgets/controls",
            "_model_module_version": "1.5.0",
            "_model_name": "DescriptionStyleModel",
            "_view_count": null,
            "_view_module": "@jupyter-widgets/base",
            "_view_module_version": "1.2.0",
            "_view_name": "StyleView",
            "description_width": ""
          }
        },
        "5a91e6fd40574301a1dd33149acf5b61": {
          "model_module": "@jupyter-widgets/base",
          "model_name": "LayoutModel",
          "model_module_version": "1.2.0",
          "state": {
            "_model_module": "@jupyter-widgets/base",
            "_model_module_version": "1.2.0",
            "_model_name": "LayoutModel",
            "_view_count": null,
            "_view_module": "@jupyter-widgets/base",
            "_view_module_version": "1.2.0",
            "_view_name": "LayoutView",
            "align_content": null,
            "align_items": null,
            "align_self": null,
            "border": null,
            "bottom": null,
            "display": null,
            "flex": null,
            "flex_flow": null,
            "grid_area": null,
            "grid_auto_columns": null,
            "grid_auto_flow": null,
            "grid_auto_rows": null,
            "grid_column": null,
            "grid_gap": null,
            "grid_row": null,
            "grid_template_areas": null,
            "grid_template_columns": null,
            "grid_template_rows": null,
            "height": null,
            "justify_content": null,
            "justify_items": null,
            "left": null,
            "margin": null,
            "max_height": null,
            "max_width": null,
            "min_height": null,
            "min_width": null,
            "object_fit": null,
            "object_position": null,
            "order": null,
            "overflow": null,
            "overflow_x": null,
            "overflow_y": null,
            "padding": null,
            "right": null,
            "top": null,
            "visibility": null,
            "width": "20px"
          }
        },
        "776bd791db5e42e8a388fd569e8cc3eb": {
          "model_module": "@jupyter-widgets/controls",
          "model_name": "ProgressStyleModel",
          "model_module_version": "1.5.0",
          "state": {
            "_model_module": "@jupyter-widgets/controls",
            "_model_module_version": "1.5.0",
            "_model_name": "ProgressStyleModel",
            "_view_count": null,
            "_view_module": "@jupyter-widgets/base",
            "_view_module_version": "1.2.0",
            "_view_name": "StyleView",
            "bar_color": null,
            "description_width": ""
          }
        },
        "dec8cbd8045b42ffa8c5ab8c0e722c45": {
          "model_module": "@jupyter-widgets/base",
          "model_name": "LayoutModel",
          "model_module_version": "1.2.0",
          "state": {
            "_model_module": "@jupyter-widgets/base",
            "_model_module_version": "1.2.0",
            "_model_name": "LayoutModel",
            "_view_count": null,
            "_view_module": "@jupyter-widgets/base",
            "_view_module_version": "1.2.0",
            "_view_name": "LayoutView",
            "align_content": null,
            "align_items": null,
            "align_self": null,
            "border": null,
            "bottom": null,
            "display": null,
            "flex": null,
            "flex_flow": null,
            "grid_area": null,
            "grid_auto_columns": null,
            "grid_auto_flow": null,
            "grid_auto_rows": null,
            "grid_column": null,
            "grid_gap": null,
            "grid_row": null,
            "grid_template_areas": null,
            "grid_template_columns": null,
            "grid_template_rows": null,
            "height": null,
            "justify_content": null,
            "justify_items": null,
            "left": null,
            "margin": null,
            "max_height": null,
            "max_width": null,
            "min_height": null,
            "min_width": null,
            "object_fit": null,
            "object_position": null,
            "order": null,
            "overflow": null,
            "overflow_x": null,
            "overflow_y": null,
            "padding": null,
            "right": null,
            "top": null,
            "visibility": null,
            "width": null
          }
        },
        "0ee0e16b0cc94d41a39e2b56a081b7f5": {
          "model_module": "@jupyter-widgets/controls",
          "model_name": "DescriptionStyleModel",
          "model_module_version": "1.5.0",
          "state": {
            "_model_module": "@jupyter-widgets/controls",
            "_model_module_version": "1.5.0",
            "_model_name": "DescriptionStyleModel",
            "_view_count": null,
            "_view_module": "@jupyter-widgets/base",
            "_view_module_version": "1.2.0",
            "_view_name": "StyleView",
            "description_width": ""
          }
        },
        "0440016f889c4adb9378b84bd4a3ab57": {
          "model_module": "@jupyter-widgets/controls",
          "model_name": "VBoxModel",
          "model_module_version": "1.5.0",
          "state": {
            "_dom_classes": [],
            "_model_module": "@jupyter-widgets/controls",
            "_model_module_version": "1.5.0",
            "_model_name": "VBoxModel",
            "_view_count": null,
            "_view_module": "@jupyter-widgets/controls",
            "_view_module_version": "1.5.0",
            "_view_name": "VBoxView",
            "box_style": "",
            "children": [
              "IPY_MODEL_cabd5b72a2da48a193045891ab341bc9",
              "IPY_MODEL_d5294a26fd244b1ba94d56bcaad28665"
            ],
            "layout": "IPY_MODEL_fe7c424a877b496babae0d70076bb9bb"
          }
        },
        "cabd5b72a2da48a193045891ab341bc9": {
          "model_module": "@jupyter-widgets/controls",
          "model_name": "LabelModel",
          "model_module_version": "1.5.0",
          "state": {
            "_dom_classes": [],
            "_model_module": "@jupyter-widgets/controls",
            "_model_module_version": "1.5.0",
            "_model_name": "LabelModel",
            "_view_count": null,
            "_view_module": "@jupyter-widgets/controls",
            "_view_module_version": "1.5.0",
            "_view_name": "LabelView",
            "description": "",
            "description_tooltip": null,
            "layout": "IPY_MODEL_f69e1b90b7504dba984489e03d2587e1",
            "placeholder": "​",
            "style": "IPY_MODEL_fd05b681be4c463e81eb0054bf5ca06c",
            "value": "0.008 MB of 0.008 MB uploaded (0.000 MB deduped)\r"
          }
        },
        "d5294a26fd244b1ba94d56bcaad28665": {
          "model_module": "@jupyter-widgets/controls",
          "model_name": "FloatProgressModel",
          "model_module_version": "1.5.0",
          "state": {
            "_dom_classes": [],
            "_model_module": "@jupyter-widgets/controls",
            "_model_module_version": "1.5.0",
            "_model_name": "FloatProgressModel",
            "_view_count": null,
            "_view_module": "@jupyter-widgets/controls",
            "_view_module_version": "1.5.0",
            "_view_name": "ProgressView",
            "bar_style": "",
            "description": "",
            "description_tooltip": null,
            "layout": "IPY_MODEL_715996875a414fff969e5bfd3010618b",
            "max": 1,
            "min": 0,
            "orientation": "horizontal",
            "style": "IPY_MODEL_06c4a707e26040c490e7c09206dbd52b",
            "value": 1
          }
        },
        "fe7c424a877b496babae0d70076bb9bb": {
          "model_module": "@jupyter-widgets/base",
          "model_name": "LayoutModel",
          "model_module_version": "1.2.0",
          "state": {
            "_model_module": "@jupyter-widgets/base",
            "_model_module_version": "1.2.0",
            "_model_name": "LayoutModel",
            "_view_count": null,
            "_view_module": "@jupyter-widgets/base",
            "_view_module_version": "1.2.0",
            "_view_name": "LayoutView",
            "align_content": null,
            "align_items": null,
            "align_self": null,
            "border": null,
            "bottom": null,
            "display": null,
            "flex": null,
            "flex_flow": null,
            "grid_area": null,
            "grid_auto_columns": null,
            "grid_auto_flow": null,
            "grid_auto_rows": null,
            "grid_column": null,
            "grid_gap": null,
            "grid_row": null,
            "grid_template_areas": null,
            "grid_template_columns": null,
            "grid_template_rows": null,
            "height": null,
            "justify_content": null,
            "justify_items": null,
            "left": null,
            "margin": null,
            "max_height": null,
            "max_width": null,
            "min_height": null,
            "min_width": null,
            "object_fit": null,
            "object_position": null,
            "order": null,
            "overflow": null,
            "overflow_x": null,
            "overflow_y": null,
            "padding": null,
            "right": null,
            "top": null,
            "visibility": null,
            "width": null
          }
        },
        "f69e1b90b7504dba984489e03d2587e1": {
          "model_module": "@jupyter-widgets/base",
          "model_name": "LayoutModel",
          "model_module_version": "1.2.0",
          "state": {
            "_model_module": "@jupyter-widgets/base",
            "_model_module_version": "1.2.0",
            "_model_name": "LayoutModel",
            "_view_count": null,
            "_view_module": "@jupyter-widgets/base",
            "_view_module_version": "1.2.0",
            "_view_name": "LayoutView",
            "align_content": null,
            "align_items": null,
            "align_self": null,
            "border": null,
            "bottom": null,
            "display": null,
            "flex": null,
            "flex_flow": null,
            "grid_area": null,
            "grid_auto_columns": null,
            "grid_auto_flow": null,
            "grid_auto_rows": null,
            "grid_column": null,
            "grid_gap": null,
            "grid_row": null,
            "grid_template_areas": null,
            "grid_template_columns": null,
            "grid_template_rows": null,
            "height": null,
            "justify_content": null,
            "justify_items": null,
            "left": null,
            "margin": null,
            "max_height": null,
            "max_width": null,
            "min_height": null,
            "min_width": null,
            "object_fit": null,
            "object_position": null,
            "order": null,
            "overflow": null,
            "overflow_x": null,
            "overflow_y": null,
            "padding": null,
            "right": null,
            "top": null,
            "visibility": null,
            "width": null
          }
        },
        "fd05b681be4c463e81eb0054bf5ca06c": {
          "model_module": "@jupyter-widgets/controls",
          "model_name": "DescriptionStyleModel",
          "model_module_version": "1.5.0",
          "state": {
            "_model_module": "@jupyter-widgets/controls",
            "_model_module_version": "1.5.0",
            "_model_name": "DescriptionStyleModel",
            "_view_count": null,
            "_view_module": "@jupyter-widgets/base",
            "_view_module_version": "1.2.0",
            "_view_name": "StyleView",
            "description_width": ""
          }
        },
        "715996875a414fff969e5bfd3010618b": {
          "model_module": "@jupyter-widgets/base",
          "model_name": "LayoutModel",
          "model_module_version": "1.2.0",
          "state": {
            "_model_module": "@jupyter-widgets/base",
            "_model_module_version": "1.2.0",
            "_model_name": "LayoutModel",
            "_view_count": null,
            "_view_module": "@jupyter-widgets/base",
            "_view_module_version": "1.2.0",
            "_view_name": "LayoutView",
            "align_content": null,
            "align_items": null,
            "align_self": null,
            "border": null,
            "bottom": null,
            "display": null,
            "flex": null,
            "flex_flow": null,
            "grid_area": null,
            "grid_auto_columns": null,
            "grid_auto_flow": null,
            "grid_auto_rows": null,
            "grid_column": null,
            "grid_gap": null,
            "grid_row": null,
            "grid_template_areas": null,
            "grid_template_columns": null,
            "grid_template_rows": null,
            "height": null,
            "justify_content": null,
            "justify_items": null,
            "left": null,
            "margin": null,
            "max_height": null,
            "max_width": null,
            "min_height": null,
            "min_width": null,
            "object_fit": null,
            "object_position": null,
            "order": null,
            "overflow": null,
            "overflow_x": null,
            "overflow_y": null,
            "padding": null,
            "right": null,
            "top": null,
            "visibility": null,
            "width": null
          }
        },
        "06c4a707e26040c490e7c09206dbd52b": {
          "model_module": "@jupyter-widgets/controls",
          "model_name": "ProgressStyleModel",
          "model_module_version": "1.5.0",
          "state": {
            "_model_module": "@jupyter-widgets/controls",
            "_model_module_version": "1.5.0",
            "_model_name": "ProgressStyleModel",
            "_view_count": null,
            "_view_module": "@jupyter-widgets/base",
            "_view_module_version": "1.2.0",
            "_view_name": "StyleView",
            "bar_color": null,
            "description_width": ""
          }
        },
        "dcd7450f8f894b95ae9691cb475581bd": {
          "model_module": "@jupyter-widgets/controls",
          "model_name": "VBoxModel",
          "model_module_version": "1.5.0",
          "state": {
            "_dom_classes": [],
            "_model_module": "@jupyter-widgets/controls",
            "_model_module_version": "1.5.0",
            "_model_name": "VBoxModel",
            "_view_count": null,
            "_view_module": "@jupyter-widgets/controls",
            "_view_module_version": "1.5.0",
            "_view_name": "VBoxView",
            "box_style": "",
            "children": [
              "IPY_MODEL_b769d557a90145299007158145f4ab3d",
              "IPY_MODEL_01d9d356b2634c2bb5e9238d28ec456b"
            ],
            "layout": "IPY_MODEL_e0614deec966448c98810593f8dbd0a0"
          }
        },
        "b769d557a90145299007158145f4ab3d": {
          "model_module": "@jupyter-widgets/controls",
          "model_name": "LabelModel",
          "model_module_version": "1.5.0",
          "state": {
            "_dom_classes": [],
            "_model_module": "@jupyter-widgets/controls",
            "_model_module_version": "1.5.0",
            "_model_name": "LabelModel",
            "_view_count": null,
            "_view_module": "@jupyter-widgets/controls",
            "_view_module_version": "1.5.0",
            "_view_name": "LabelView",
            "description": "",
            "description_tooltip": null,
            "layout": "IPY_MODEL_d687040d49ed472896c691e635aac676",
            "placeholder": "​",
            "style": "IPY_MODEL_4c786bbbba0a423bab79f03e6524fdc1",
            "value": "0.011 MB of 0.011 MB uploaded (0.000 MB deduped)\r"
          }
        },
        "01d9d356b2634c2bb5e9238d28ec456b": {
          "model_module": "@jupyter-widgets/controls",
          "model_name": "FloatProgressModel",
          "model_module_version": "1.5.0",
          "state": {
            "_dom_classes": [],
            "_model_module": "@jupyter-widgets/controls",
            "_model_module_version": "1.5.0",
            "_model_name": "FloatProgressModel",
            "_view_count": null,
            "_view_module": "@jupyter-widgets/controls",
            "_view_module_version": "1.5.0",
            "_view_name": "ProgressView",
            "bar_style": "",
            "description": "",
            "description_tooltip": null,
            "layout": "IPY_MODEL_1f0bf04fc10944948a3145b764b41b74",
            "max": 1,
            "min": 0,
            "orientation": "horizontal",
            "style": "IPY_MODEL_375d8e4f5d69494bb17f3c91a798774e",
            "value": 1
          }
        },
        "e0614deec966448c98810593f8dbd0a0": {
          "model_module": "@jupyter-widgets/base",
          "model_name": "LayoutModel",
          "model_module_version": "1.2.0",
          "state": {
            "_model_module": "@jupyter-widgets/base",
            "_model_module_version": "1.2.0",
            "_model_name": "LayoutModel",
            "_view_count": null,
            "_view_module": "@jupyter-widgets/base",
            "_view_module_version": "1.2.0",
            "_view_name": "LayoutView",
            "align_content": null,
            "align_items": null,
            "align_self": null,
            "border": null,
            "bottom": null,
            "display": null,
            "flex": null,
            "flex_flow": null,
            "grid_area": null,
            "grid_auto_columns": null,
            "grid_auto_flow": null,
            "grid_auto_rows": null,
            "grid_column": null,
            "grid_gap": null,
            "grid_row": null,
            "grid_template_areas": null,
            "grid_template_columns": null,
            "grid_template_rows": null,
            "height": null,
            "justify_content": null,
            "justify_items": null,
            "left": null,
            "margin": null,
            "max_height": null,
            "max_width": null,
            "min_height": null,
            "min_width": null,
            "object_fit": null,
            "object_position": null,
            "order": null,
            "overflow": null,
            "overflow_x": null,
            "overflow_y": null,
            "padding": null,
            "right": null,
            "top": null,
            "visibility": null,
            "width": null
          }
        },
        "d687040d49ed472896c691e635aac676": {
          "model_module": "@jupyter-widgets/base",
          "model_name": "LayoutModel",
          "model_module_version": "1.2.0",
          "state": {
            "_model_module": "@jupyter-widgets/base",
            "_model_module_version": "1.2.0",
            "_model_name": "LayoutModel",
            "_view_count": null,
            "_view_module": "@jupyter-widgets/base",
            "_view_module_version": "1.2.0",
            "_view_name": "LayoutView",
            "align_content": null,
            "align_items": null,
            "align_self": null,
            "border": null,
            "bottom": null,
            "display": null,
            "flex": null,
            "flex_flow": null,
            "grid_area": null,
            "grid_auto_columns": null,
            "grid_auto_flow": null,
            "grid_auto_rows": null,
            "grid_column": null,
            "grid_gap": null,
            "grid_row": null,
            "grid_template_areas": null,
            "grid_template_columns": null,
            "grid_template_rows": null,
            "height": null,
            "justify_content": null,
            "justify_items": null,
            "left": null,
            "margin": null,
            "max_height": null,
            "max_width": null,
            "min_height": null,
            "min_width": null,
            "object_fit": null,
            "object_position": null,
            "order": null,
            "overflow": null,
            "overflow_x": null,
            "overflow_y": null,
            "padding": null,
            "right": null,
            "top": null,
            "visibility": null,
            "width": null
          }
        },
        "4c786bbbba0a423bab79f03e6524fdc1": {
          "model_module": "@jupyter-widgets/controls",
          "model_name": "DescriptionStyleModel",
          "model_module_version": "1.5.0",
          "state": {
            "_model_module": "@jupyter-widgets/controls",
            "_model_module_version": "1.5.0",
            "_model_name": "DescriptionStyleModel",
            "_view_count": null,
            "_view_module": "@jupyter-widgets/base",
            "_view_module_version": "1.2.0",
            "_view_name": "StyleView",
            "description_width": ""
          }
        },
        "1f0bf04fc10944948a3145b764b41b74": {
          "model_module": "@jupyter-widgets/base",
          "model_name": "LayoutModel",
          "model_module_version": "1.2.0",
          "state": {
            "_model_module": "@jupyter-widgets/base",
            "_model_module_version": "1.2.0",
            "_model_name": "LayoutModel",
            "_view_count": null,
            "_view_module": "@jupyter-widgets/base",
            "_view_module_version": "1.2.0",
            "_view_name": "LayoutView",
            "align_content": null,
            "align_items": null,
            "align_self": null,
            "border": null,
            "bottom": null,
            "display": null,
            "flex": null,
            "flex_flow": null,
            "grid_area": null,
            "grid_auto_columns": null,
            "grid_auto_flow": null,
            "grid_auto_rows": null,
            "grid_column": null,
            "grid_gap": null,
            "grid_row": null,
            "grid_template_areas": null,
            "grid_template_columns": null,
            "grid_template_rows": null,
            "height": null,
            "justify_content": null,
            "justify_items": null,
            "left": null,
            "margin": null,
            "max_height": null,
            "max_width": null,
            "min_height": null,
            "min_width": null,
            "object_fit": null,
            "object_position": null,
            "order": null,
            "overflow": null,
            "overflow_x": null,
            "overflow_y": null,
            "padding": null,
            "right": null,
            "top": null,
            "visibility": null,
            "width": null
          }
        },
        "375d8e4f5d69494bb17f3c91a798774e": {
          "model_module": "@jupyter-widgets/controls",
          "model_name": "ProgressStyleModel",
          "model_module_version": "1.5.0",
          "state": {
            "_model_module": "@jupyter-widgets/controls",
            "_model_module_version": "1.5.0",
            "_model_name": "ProgressStyleModel",
            "_view_count": null,
            "_view_module": "@jupyter-widgets/base",
            "_view_module_version": "1.2.0",
            "_view_name": "StyleView",
            "bar_color": null,
            "description_width": ""
          }
        }
      }
    },
    "gpuClass": "premium"
  },
  "nbformat_minor": 0,
  "nbformat": 4,
  "cells": [
    {
      "cell_type": "markdown",
      "metadata": {
        "id": "view-in-github",
        "colab_type": "text"
      },
      "source": [
        "<a href=\"https://colab.research.google.com/github/Oh-Seokjin/Text_Classifier_goorm/blob/main/baseline_colab_parameters.ipynb\" target=\"_parent\"><img src=\"https://colab.research.google.com/assets/colab-badge.svg\" alt=\"Open In Colab\"/></a>"
      ]
    },
    {
      "cell_type": "markdown",
      "source": [
        "# Import requirements"
      ],
      "metadata": {
        "id": "TH32rzgprvgM"
      }
    },
    {
      "cell_type": "code",
      "source": [
        "!pip install transformers"
      ],
      "metadata": {
        "id": "G9EvC1HBuf41"
      },
      "execution_count": null,
      "outputs": []
    },
    {
      "cell_type": "code",
      "source": [
        "pip install pytorch_pretrained_bert"
      ],
      "metadata": {
        "id": "SkLixLsaV27z"
      },
      "execution_count": null,
      "outputs": []
    },
    {
      "cell_type": "code",
      "source": [
        "pip install wandb"
      ],
      "metadata": {
        "id": "O3WquFBlibza"
      },
      "execution_count": null,
      "outputs": []
    },
    {
      "cell_type": "code",
      "source": [
        "import wandb\n",
        "wandb.login()"
      ],
      "metadata": {
        "id": "vP_WwAXEigXq"
      },
      "execution_count": null,
      "outputs": []
    },
    {
      "cell_type": "code",
      "source": [
        "import os\n",
        "import pdb\n",
        "import argparse\n",
        "from dataclasses import dataclass, field\n",
        "from typing import Optional\n",
        "from collections import defaultdict\n",
        "\n",
        "import torch\n",
        "from torch.nn.utils.rnn import pad_sequence\n",
        "\n",
        "import numpy as np\n",
        "from tqdm import tqdm, trange\n",
        "\n",
        "from transformers import (\n",
        "    BertForSequenceClassification,\n",
        "    BertTokenizerFast,\n",
        "    AutoConfig,\n",
        ")\n",
        "\n",
        "from pytorch_pretrained_bert.optimization import BertAdam, WarmupLinearSchedule"
      ],
      "metadata": {
        "id": "AAdLxrUZrvgP",
        "colab": {
          "base_uri": "https://localhost:8080/",
          "height": 104,
          "referenced_widgets": [
            "1cc0f3cede04418eba78498fd04d6cef",
            "40d839e6ae244910951c3cb9c9e8dc39",
            "9404d9e434124b25b383ba8ca1fe1628",
            "104db5e6c8a549039005f0027aa7582f",
            "d65da6e3cb6d4263a2bba1a97305811a",
            "e5d2e209c7aa4436b2c067ca29430815",
            "6921dbfc8aba47abb0f0a221525b41b3",
            "5a91e6fd40574301a1dd33149acf5b61",
            "776bd791db5e42e8a388fd569e8cc3eb",
            "dec8cbd8045b42ffa8c5ab8c0e722c45",
            "0ee0e16b0cc94d41a39e2b56a081b7f5"
          ]
        },
        "outputId": "2c9b21a4-fb10-45b0-b0a3-01384d2b55db"
      },
      "execution_count": null,
      "outputs": [
        {
          "output_type": "stream",
          "name": "stderr",
          "text": [
            "The cache for model files in Transformers v4.22.0 has been updated. Migrating your old cache. This is a one-time only operation. You can interrupt this and resume the migration later on by calling `transformers.utils.move_cache()`.\n"
          ]
        },
        {
          "output_type": "stream",
          "name": "stdout",
          "text": [
            "Moving 0 files to the new cache system\n"
          ]
        },
        {
          "output_type": "display_data",
          "data": {
            "text/plain": [
              "0it [00:00, ?it/s]"
            ],
            "application/vnd.jupyter.widget-view+json": {
              "version_major": 2,
              "version_minor": 0,
              "model_id": "1cc0f3cede04418eba78498fd04d6cef"
            }
          },
          "metadata": {}
        }
      ]
    },
    {
      "cell_type": "markdown",
      "source": [
        "# 1. Preprocess"
      ],
      "metadata": {
        "id": "ASWOOmXqrvgQ"
      }
    },
    {
      "cell_type": "code",
      "source": [
        "from google.colab import drive\n",
        "drive.mount('/content/drive')"
      ],
      "metadata": {
        "colab": {
          "base_uri": "https://localhost:8080/"
        },
        "id": "hpyQQpirSyHj",
        "outputId": "8051de94-c6e7-48ed-f676-ff362a334433"
      },
      "execution_count": null,
      "outputs": [
        {
          "output_type": "stream",
          "name": "stdout",
          "text": [
            "Drive already mounted at /content/drive; to attempt to forcibly remount, call drive.mount(\"/content/drive\", force_remount=True).\n"
          ]
        }
      ]
    },
    {
      "cell_type": "code",
      "source": [
        "def make_id_file(task, tokenizer):\n",
        "    def make_data_strings(file_name):\n",
        "        data_strings = []\n",
        "        with open(os.path.join('../content/drive/MyDrive/Goorm/project01/data', file_name), 'r', encoding='utf-8') as f:\n",
        "            id_file_data = [tokenizer.encode(line.lower()) for line in f.readlines()]\n",
        "        for item in id_file_data:\n",
        "            data_strings.append(' '.join([str(k) for k in item]))\n",
        "        return data_strings\n",
        "    \n",
        "    print('it will take some times...')\n",
        "    train_pos = make_data_strings('sentiment.train.1')\n",
        "    train_neg = make_data_strings('sentiment.train.0')\n",
        "    dev_pos = make_data_strings('sentiment.dev.1')\n",
        "    dev_neg = make_data_strings('sentiment.dev.0')\n",
        "\n",
        "    print('make id file finished!')\n",
        "    return train_pos, train_neg, dev_pos, dev_neg"
      ],
      "metadata": {
        "id": "RAnU6w29rvgR"
      },
      "execution_count": null,
      "outputs": []
    },
    {
      "cell_type": "code",
      "source": [
        "tokenizer = BertTokenizerFast.from_pretrained('bert-base-uncased')"
      ],
      "metadata": {
        "id": "Ui2HOCflrvgR"
      },
      "execution_count": null,
      "outputs": []
    },
    {
      "cell_type": "code",
      "source": [
        "!ls"
      ],
      "metadata": {
        "id": "ttzRlY4Ov0jZ",
        "outputId": "e74df641-06fe-42cd-a38c-6285bb838b38",
        "colab": {
          "base_uri": "https://localhost:8080/"
        }
      },
      "execution_count": null,
      "outputs": [
        {
          "output_type": "stream",
          "name": "stdout",
          "text": [
            "drive  sample_data\n"
          ]
        }
      ]
    },
    {
      "cell_type": "code",
      "source": [
        "train_pos, train_neg, dev_pos, dev_neg = make_id_file('yelp', tokenizer)"
      ],
      "metadata": {
        "id": "BAgztXIBrvgS",
        "outputId": "1c1f81b8-c5aa-4813-ec24-d0068de155d2",
        "colab": {
          "base_uri": "https://localhost:8080/"
        }
      },
      "execution_count": null,
      "outputs": [
        {
          "output_type": "stream",
          "name": "stdout",
          "text": [
            "it will take some times...\n",
            "make id file finished!\n"
          ]
        }
      ]
    },
    {
      "cell_type": "code",
      "source": [
        "train_pos[:10]\n",
        "# train_neg[:10]"
      ],
      "metadata": {
        "id": "wRh2WjGRrvgS",
        "outputId": "2e2a87ed-a5f1-4f52-804d-c5cab9f12ceb",
        "colab": {
          "base_uri": "https://localhost:8080/"
        }
      },
      "execution_count": null,
      "outputs": [
        {
          "output_type": "execute_result",
          "data": {
            "text/plain": [
              "['101 6581 2833 1012 102',\n",
              " '101 21688 8013 2326 1012 102',\n",
              " '101 2027 2036 2031 3679 19247 1998 3256 6949 2029 2003 2428 2204 1012 102',\n",
              " '101 2009 1005 1055 1037 2204 15174 2098 7570 22974 2063 1012 102',\n",
              " '101 1996 3095 2003 5379 1012 102',\n",
              " '101 2204 3347 2833 1012 102',\n",
              " '101 2204 2326 1012 102',\n",
              " '101 11350 1997 2154 2003 25628 1998 7167 1997 19247 1012 102',\n",
              " '101 2307 2173 2005 6265 2030 3347 27962 1998 5404 1012 102',\n",
              " '101 1996 2047 2846 3504 6429 1012 102']"
            ]
          },
          "metadata": {},
          "execution_count": 9
        }
      ]
    },
    {
      "cell_type": "code",
      "source": [
        "class SentimentDataset(object):\n",
        "    def __init__(self, tokenizer, pos, neg):\n",
        "        self.tokenizer = tokenizer\n",
        "        self.data = []\n",
        "        self.label = []\n",
        "\n",
        "        for pos_sent in pos:\n",
        "            self.data += [self._cast_to_int(pos_sent.strip().split())]\n",
        "            self.label += [[1]]\n",
        "        for neg_sent in neg:\n",
        "            self.data += [self._cast_to_int(neg_sent.strip().split())]\n",
        "            self.label += [[0]]\n",
        "\n",
        "    def _cast_to_int(self, sample):\n",
        "        return [int(word_id) for word_id in sample]\n",
        "\n",
        "    def __len__(self):\n",
        "        return len(self.data)\n",
        "\n",
        "    def __getitem__(self, index):\n",
        "        sample = self.data[index]\n",
        "        return np.array(sample), np.array(self.label[index])"
      ],
      "metadata": {
        "id": "JdpQQQMUrvgT"
      },
      "execution_count": null,
      "outputs": []
    },
    {
      "cell_type": "code",
      "source": [
        "train_dataset = SentimentDataset(tokenizer, train_pos, train_neg)\n",
        "dev_dataset = SentimentDataset(tokenizer, dev_pos, dev_neg)"
      ],
      "metadata": {
        "id": "wCz5ey8xrvgU"
      },
      "execution_count": null,
      "outputs": []
    },
    {
      "cell_type": "code",
      "source": [
        "for i, item in enumerate(train_dataset):\n",
        "    print(item)\n",
        "    if i == 10:\n",
        "        break"
      ],
      "metadata": {
        "id": "UuvkMczvrvgU",
        "outputId": "b95ccace-7470-48e1-de86-3c939d27afa1",
        "colab": {
          "base_uri": "https://localhost:8080/"
        }
      },
      "execution_count": null,
      "outputs": [
        {
          "output_type": "stream",
          "name": "stdout",
          "text": [
            "(array([ 101, 6581, 2833, 1012,  102]), array([1]))\n",
            "(array([  101, 21688,  8013,  2326,  1012,   102]), array([1]))\n",
            "(array([  101,  2027,  2036,  2031,  3679, 19247,  1998,  3256,  6949,\n",
            "        2029,  2003,  2428,  2204,  1012,   102]), array([1]))\n",
            "(array([  101,  2009,  1005,  1055,  1037,  2204, 15174,  2098,  7570,\n",
            "       22974,  2063,  1012,   102]), array([1]))\n",
            "(array([ 101, 1996, 3095, 2003, 5379, 1012,  102]), array([1]))\n",
            "(array([ 101, 2204, 3347, 2833, 1012,  102]), array([1]))\n",
            "(array([ 101, 2204, 2326, 1012,  102]), array([1]))\n",
            "(array([  101, 11350,  1997,  2154,  2003, 25628,  1998,  7167,  1997,\n",
            "       19247,  1012,   102]), array([1]))\n",
            "(array([  101,  2307,  2173,  2005,  6265,  2030,  3347, 27962,  1998,\n",
            "        5404,  1012,   102]), array([1]))\n",
            "(array([ 101, 1996, 2047, 2846, 3504, 6429, 1012,  102]), array([1]))\n",
            "(array([ 101, 2023, 2173, 2001, 2200, 2204, 1012,  102]), array([1]))\n"
          ]
        }
      ]
    },
    {
      "cell_type": "code",
      "source": [
        "def collate_fn_style(samples):\n",
        "    input_ids, labels = zip(*samples)\n",
        "    max_len = max(len(input_id) for input_id in input_ids)\n",
        "    sorted_indices = np.argsort([len(input_id) for input_id in input_ids])[::-1] \n",
        "    # sorted_indices = range(len(input_ids))\n",
        "\n",
        "    input_ids = pad_sequence([torch.tensor(input_ids[index]) for index in sorted_indices],\n",
        "                             batch_first=True)\n",
        "    attention_mask = torch.tensor(\n",
        "        [[1] * len(input_ids[index]) + [0] * (max_len - len(input_ids[index])) for index in\n",
        "         sorted_indices])\n",
        "    token_type_ids = torch.tensor([[0] * len(input_ids[index]) for index in sorted_indices])\n",
        "    position_ids = torch.tensor([list(range(len(input_ids[index]))) for index in sorted_indices])\n",
        "    labels = torch.tensor(np.stack(labels, axis=0)[sorted_indices])\n",
        "\n",
        "    return input_ids, attention_mask, token_type_ids, position_ids, labels"
      ],
      "metadata": {
        "id": "B0wRUBYSrvgU"
      },
      "execution_count": null,
      "outputs": []
    },
    {
      "cell_type": "code",
      "source": [
        "collate_fn_style(train_dataset)"
      ],
      "metadata": {
        "id": "pa0EBGMgTeiq"
      },
      "execution_count": null,
      "outputs": []
    },
    {
      "cell_type": "code",
      "source": [
        "train_batch_size=128 #32\n",
        "eval_batch_size=256\n",
        "\n",
        "train_loader = torch.utils.data.DataLoader(train_dataset,\n",
        "                                           batch_size=train_batch_size,\n",
        "                                           shuffle=True, collate_fn=collate_fn_style,\n",
        "                                           pin_memory=True, num_workers=2)\n",
        "dev_loader = torch.utils.data.DataLoader(dev_dataset, batch_size=eval_batch_size,\n",
        "                                         shuffle=False, collate_fn=collate_fn_style,\n",
        "                                         num_workers=2)"
      ],
      "metadata": {
        "id": "5saagig0rvgV"
      },
      "execution_count": null,
      "outputs": []
    },
    {
      "cell_type": "code",
      "source": [
        "# random seed\n",
        "random_seed=33\n",
        "np.random.seed(random_seed)\n",
        "torch.manual_seed(random_seed)\n",
        "\n",
        "device = torch.device('cuda' if torch.cuda.is_available() else 'cpu')\n",
        "\n",
        "model = BertForSequenceClassification.from_pretrained('bert-base-uncased')\n",
        "model.to(device)"
      ],
      "metadata": {
        "id": "zvFqCaCnrvgW"
      },
      "execution_count": null,
      "outputs": []
    },
    {
      "cell_type": "code",
      "source": [
        "model.train()\n",
        "learning_rate = 5e-5\n",
        "optimizer = BertAdam(params=model.parameters(), lr=learning_rate, warmup=-1, t_total=-1, schedule='warmup_linear',\n",
        "                 b1=0.9, b2=0.999, e=1e-6, weight_decay=0.01, max_grad_norm=1.0)"
      ],
      "metadata": {
        "id": "0szZ2oUYy8eH",
        "colab": {
          "base_uri": "https://localhost:8080/"
        },
        "outputId": "f32d2973-66bb-4c96-87cc-7ea8d251eef8"
      },
      "execution_count": null,
      "outputs": [
        {
          "output_type": "stream",
          "name": "stderr",
          "text": [
            "WARNING:pytorch_pretrained_bert.optimization:t_total value of -1 results in schedule not being applied\n"
          ]
        }
      ]
    },
    {
      "cell_type": "code",
      "source": [
        "def compute_acc(predictions, target_labels):\n",
        "    return (np.array(predictions) == np.array(target_labels)).mean()"
      ],
      "metadata": {
        "id": "MztU-L83rvgW"
      },
      "execution_count": null,
      "outputs": []
    },
    {
      "cell_type": "code",
      "source": [
        "wandb.init()\n",
        "\n",
        "train_epoch = 3\n",
        "lowest_valid_loss = 9999.\n",
        "for epoch in range(train_epoch):\n",
        "    with tqdm(train_loader, unit=\"batch\") as tepoch:\n",
        "        for iteration, (input_ids, attention_mask, token_type_ids, position_ids, labels) in enumerate(tepoch):\n",
        "            tepoch.set_description(f\"Epoch {epoch}\")\n",
        "            input_ids = input_ids.to(device)\n",
        "            attention_mask = attention_mask.to(device)\n",
        "            token_type_ids = token_type_ids.to(device)\n",
        "            position_ids = position_ids.to(device)\n",
        "            labels = labels.to(device, dtype=torch.long)\n",
        "\n",
        "            optimizer.zero_grad()\n",
        "\n",
        "            output = model(input_ids=input_ids,\n",
        "                           attention_mask=attention_mask,\n",
        "                           token_type_ids=token_type_ids,\n",
        "                           position_ids=position_ids,\n",
        "                           labels=labels)\n",
        "\n",
        "            loss = output.loss\n",
        "            loss.backward()\n",
        "\n",
        "            optimizer.step()\n",
        "\n",
        "            tepoch.set_postfix(loss=loss.item())\n",
        "            if iteration != 0 and iteration % int(len(train_loader) / 5) == 0:\n",
        "                # Evaluate the model five times per epoch\n",
        "                with torch.no_grad():\n",
        "                    model.eval()\n",
        "                    valid_losses = []\n",
        "                    predictions = []\n",
        "                    target_labels = []\n",
        "                    for input_ids, attention_mask, token_type_ids, position_ids, labels in tqdm(dev_loader,\n",
        "                                                                                                desc='Eval',\n",
        "                                                                                                position=1,\n",
        "                                                                                                leave=None):\n",
        "                        input_ids = input_ids.to(device)\n",
        "                        attention_mask = attention_mask.to(device)\n",
        "                        token_type_ids = token_type_ids.to(device)\n",
        "                        position_ids = position_ids.to(device)\n",
        "                        labels = labels.to(device, dtype=torch.long)\n",
        "\n",
        "                        output = model(input_ids=input_ids,\n",
        "                                       attention_mask=attention_mask,\n",
        "                                       token_type_ids=token_type_ids,\n",
        "                                       position_ids=position_ids,\n",
        "                                       labels=labels)\n",
        "\n",
        "                        logits = output.logits\n",
        "                        loss = output.loss\n",
        "                        valid_losses.append(loss.item())\n",
        "\n",
        "                        batch_predictions = [0 if example[0] > example[1] else 1 for example in logits]\n",
        "                        batch_labels = [int(example) for example in labels]\n",
        "\n",
        "                        predictions += batch_predictions\n",
        "                        target_labels += batch_labels\n",
        "\n",
        "                acc = compute_acc(predictions, target_labels)\n",
        "                valid_loss = sum(valid_losses) / len(valid_losses)\n",
        "                wandb.log({\n",
        "                    \"Test Acc\": acc,\n",
        "                    \"Test Loss\": valid_loss})\n",
        "                if lowest_valid_loss > valid_loss:\n",
        "                    print('Acc for model which have lower valid loss: ', acc)\n",
        "                    torch.save(model.state_dict(), \"./pytorch_model.bin\")\n",
        "\n",
        "wandb.finish()"
      ],
      "metadata": {
        "id": "DuZfvzpGrvgW",
        "outputId": "e03bb454-ad95-4997-8bf5-8aca4200a0da",
        "colab": {
          "base_uri": "https://localhost:8080/",
          "height": 1000,
          "referenced_widgets": [
            "0440016f889c4adb9378b84bd4a3ab57",
            "cabd5b72a2da48a193045891ab341bc9",
            "d5294a26fd244b1ba94d56bcaad28665",
            "fe7c424a877b496babae0d70076bb9bb",
            "f69e1b90b7504dba984489e03d2587e1",
            "fd05b681be4c463e81eb0054bf5ca06c",
            "715996875a414fff969e5bfd3010618b",
            "06c4a707e26040c490e7c09206dbd52b",
            "dcd7450f8f894b95ae9691cb475581bd",
            "b769d557a90145299007158145f4ab3d",
            "01d9d356b2634c2bb5e9238d28ec456b",
            "e0614deec966448c98810593f8dbd0a0",
            "d687040d49ed472896c691e635aac676",
            "4c786bbbba0a423bab79f03e6524fdc1",
            "1f0bf04fc10944948a3145b764b41b74",
            "375d8e4f5d69494bb17f3c91a798774e"
          ]
        }
      },
      "execution_count": null,
      "outputs": [
        {
          "output_type": "display_data",
          "data": {
            "text/plain": [
              "<IPython.core.display.HTML object>"
            ],
            "text/html": [
              "Finishing last run (ID:3w07cfxr) before initializing another..."
            ]
          },
          "metadata": {}
        },
        {
          "output_type": "display_data",
          "data": {
            "text/plain": [
              "<IPython.core.display.HTML object>"
            ],
            "text/html": [
              "Waiting for W&B process to finish... <strong style=\"color:green\">(success).</strong>"
            ]
          },
          "metadata": {}
        },
        {
          "output_type": "display_data",
          "data": {
            "text/plain": [
              "VBox(children=(Label(value='0.000 MB of 0.000 MB uploaded (0.000 MB deduped)\\r'), FloatProgress(value=1.0, max…"
            ],
            "application/vnd.jupyter.widget-view+json": {
              "version_major": 2,
              "version_minor": 0,
              "model_id": "0440016f889c4adb9378b84bd4a3ab57"
            }
          },
          "metadata": {}
        },
        {
          "output_type": "display_data",
          "data": {
            "text/plain": [
              "<IPython.core.display.HTML object>"
            ],
            "text/html": [
              "Synced <strong style=\"color:#cdcd00\">firm-haze-1</strong>: <a href=\"https://wandb.ai/ohseokjin/uncategorized/runs/3w07cfxr\" target=\"_blank\">https://wandb.ai/ohseokjin/uncategorized/runs/3w07cfxr</a><br/>Synced 5 W&B file(s), 0 media file(s), 0 artifact file(s) and 0 other file(s)"
            ]
          },
          "metadata": {}
        },
        {
          "output_type": "display_data",
          "data": {
            "text/plain": [
              "<IPython.core.display.HTML object>"
            ],
            "text/html": [
              "Find logs at: <code>./wandb/run-20220930_040030-3w07cfxr/logs</code>"
            ]
          },
          "metadata": {}
        },
        {
          "output_type": "display_data",
          "data": {
            "text/plain": [
              "<IPython.core.display.HTML object>"
            ],
            "text/html": [
              "Successfully finished last run (ID:3w07cfxr). Initializing new run:<br/>"
            ]
          },
          "metadata": {}
        },
        {
          "output_type": "display_data",
          "data": {
            "text/plain": [
              "<IPython.core.display.HTML object>"
            ],
            "text/html": [
              "Tracking run with wandb version 0.13.3"
            ]
          },
          "metadata": {}
        },
        {
          "output_type": "display_data",
          "data": {
            "text/plain": [
              "<IPython.core.display.HTML object>"
            ],
            "text/html": [
              "Run data is saved locally in <code>/content/wandb/run-20220930_040417-3h4tx1cr</code>"
            ]
          },
          "metadata": {}
        },
        {
          "output_type": "display_data",
          "data": {
            "text/plain": [
              "<IPython.core.display.HTML object>"
            ],
            "text/html": [
              "Syncing run <strong><a href=\"https://wandb.ai/ohseokjin/uncategorized/runs/3h4tx1cr\" target=\"_blank\">dazzling-forest-2</a></strong> to <a href=\"https://wandb.ai/ohseokjin/uncategorized\" target=\"_blank\">Weights & Biases</a> (<a href=\"https://wandb.me/run\" target=\"_blank\">docs</a>)<br/>"
            ]
          },
          "metadata": {}
        },
        {
          "output_type": "stream",
          "name": "stderr",
          "text": [
            "Epoch 0:  20%|█▉        | 692/3463 [01:52<07:29,  6.16batch/s, loss=0.00319]\n",
            "Eval:   0%|          | 0/16 [00:00<?, ?it/s]\u001b[A\n",
            "Eval:   6%|▋         | 1/16 [00:00<00:02,  5.63it/s]\u001b[A\n",
            "Eval:  19%|█▉        | 3/16 [00:00<00:01,  9.20it/s]\u001b[A\n",
            "Eval:  31%|███▏      | 5/16 [00:00<00:01, 10.53it/s]\u001b[A\n",
            "Eval:  44%|████▍     | 7/16 [00:00<00:00, 11.12it/s]\u001b[A\n",
            "Eval:  56%|█████▋    | 9/16 [00:00<00:00, 11.33it/s]\u001b[A\n",
            "Eval:  69%|██████▉   | 11/16 [00:01<00:00, 11.09it/s]\u001b[A\n",
            "Eval:  81%|████████▏ | 13/16 [00:01<00:00, 11.16it/s]\u001b[A\n",
            "Eval:  94%|█████████▍| 15/16 [00:01<00:00, 11.04it/s]\u001b[A\n",
            "                                                     \u001b[A"
          ]
        },
        {
          "output_type": "stream",
          "name": "stdout",
          "text": [
            "Acc for model which have lower valid loss:  0.977\n"
          ]
        },
        {
          "output_type": "stream",
          "name": "stderr",
          "text": [
            "Epoch 0:  40%|███▉      | 1384/3463 [03:47<05:39,  6.12batch/s, loss=0.00797]\n",
            "Eval:   0%|          | 0/16 [00:00<?, ?it/s]\u001b[A\n",
            "Eval:   6%|▋         | 1/16 [00:00<00:02,  5.63it/s]\u001b[A\n",
            "Eval:  19%|█▉        | 3/16 [00:00<00:01,  9.19it/s]\u001b[A\n",
            "Eval:  31%|███▏      | 5/16 [00:00<00:01, 10.63it/s]\u001b[A\n",
            "Eval:  44%|████▍     | 7/16 [00:00<00:00, 11.22it/s]\u001b[A\n",
            "Eval:  56%|█████▋    | 9/16 [00:00<00:00, 11.40it/s]\u001b[A\n",
            "Eval:  69%|██████▉   | 11/16 [00:01<00:00, 11.12it/s]\u001b[A\n",
            "Eval:  81%|████████▏ | 13/16 [00:01<00:00, 11.19it/s]\u001b[A\n",
            "Eval:  94%|█████████▍| 15/16 [00:01<00:00, 11.06it/s]\u001b[A\n",
            "                                                     \u001b[A"
          ]
        },
        {
          "output_type": "stream",
          "name": "stdout",
          "text": [
            "Acc for model which have lower valid loss:  0.97525\n"
          ]
        },
        {
          "output_type": "stream",
          "name": "stderr",
          "text": [
            "Epoch 0:  60%|█████▉    | 2076/3463 [05:41<03:46,  6.14batch/s, loss=0.00348]\n",
            "Eval:   0%|          | 0/16 [00:00<?, ?it/s]\u001b[A\n",
            "Eval:   6%|▋         | 1/16 [00:00<00:02,  5.75it/s]\u001b[A\n",
            "Eval:  19%|█▉        | 3/16 [00:00<00:01,  9.36it/s]\u001b[A\n",
            "Eval:  31%|███▏      | 5/16 [00:00<00:01, 10.66it/s]\u001b[A\n",
            "Eval:  44%|████▍     | 7/16 [00:00<00:00, 11.24it/s]\u001b[A\n",
            "Eval:  56%|█████▋    | 9/16 [00:00<00:00, 11.35it/s]\u001b[A\n",
            "Eval:  69%|██████▉   | 11/16 [00:01<00:00, 11.12it/s]\u001b[A\n",
            "Eval:  81%|████████▏ | 13/16 [00:01<00:00, 11.19it/s]\u001b[A\n",
            "Eval:  94%|█████████▍| 15/16 [00:01<00:00, 11.06it/s]\u001b[A\n",
            "                                                     \u001b[A"
          ]
        },
        {
          "output_type": "stream",
          "name": "stdout",
          "text": [
            "Acc for model which have lower valid loss:  0.97775\n"
          ]
        },
        {
          "output_type": "stream",
          "name": "stderr",
          "text": [
            "Epoch 0:  80%|███████▉  | 2768/3463 [07:36<01:51,  6.23batch/s, loss=0.0167]\n",
            "Eval:   0%|          | 0/16 [00:00<?, ?it/s]\u001b[A\n",
            "Eval:   6%|▋         | 1/16 [00:00<00:02,  5.45it/s]\u001b[A\n",
            "Eval:  19%|█▉        | 3/16 [00:00<00:01,  9.23it/s]\u001b[A\n",
            "Eval:  31%|███▏      | 5/16 [00:00<00:01, 10.61it/s]\u001b[A\n",
            "Eval:  44%|████▍     | 7/16 [00:00<00:00, 11.19it/s]\u001b[A\n",
            "Eval:  56%|█████▋    | 9/16 [00:00<00:00, 11.31it/s]\u001b[A\n",
            "Eval:  69%|██████▉   | 11/16 [00:01<00:00, 11.09it/s]\u001b[A\n",
            "Eval:  81%|████████▏ | 13/16 [00:01<00:00, 11.16it/s]\u001b[A\n",
            "Eval:  94%|█████████▍| 15/16 [00:01<00:00, 11.02it/s]\u001b[A\n",
            "                                                     \u001b[A"
          ]
        },
        {
          "output_type": "stream",
          "name": "stdout",
          "text": [
            "Acc for model which have lower valid loss:  0.978\n"
          ]
        },
        {
          "output_type": "stream",
          "name": "stderr",
          "text": [
            "Epoch 0: 100%|█████████▉| 3460/3463 [09:31<00:00,  5.93batch/s, loss=0.00991]\n",
            "Eval:   0%|          | 0/16 [00:00<?, ?it/s]\u001b[A\n",
            "Eval:   6%|▋         | 1/16 [00:00<00:02,  5.66it/s]\u001b[A\n",
            "Eval:  19%|█▉        | 3/16 [00:00<00:01,  9.16it/s]\u001b[A\n",
            "Eval:  31%|███▏      | 5/16 [00:00<00:01, 10.63it/s]\u001b[A\n",
            "Eval:  44%|████▍     | 7/16 [00:00<00:00, 11.22it/s]\u001b[A\n",
            "Eval:  56%|█████▋    | 9/16 [00:00<00:00, 11.45it/s]\u001b[A\n",
            "Eval:  69%|██████▉   | 11/16 [00:01<00:00, 11.18it/s]\u001b[A\n",
            "Eval:  81%|████████▏ | 13/16 [00:01<00:00, 11.22it/s]\u001b[A\n",
            "Eval:  94%|█████████▍| 15/16 [00:01<00:00, 11.04it/s]\u001b[A\n",
            "                                                     \u001b[A"
          ]
        },
        {
          "output_type": "stream",
          "name": "stdout",
          "text": [
            "Acc for model which have lower valid loss:  0.97875\n"
          ]
        },
        {
          "output_type": "stream",
          "name": "stderr",
          "text": [
            "Epoch 0: 100%|██████████| 3463/3463 [09:34<00:00,  6.02batch/s, loss=0.00461]\n",
            "Epoch 1:  20%|█▉        | 692/3463 [01:52<07:34,  6.10batch/s, loss=0.0081] \n",
            "Eval:   0%|          | 0/16 [00:00<?, ?it/s]\u001b[A\n",
            "Eval:   6%|▋         | 1/16 [00:00<00:02,  5.79it/s]\u001b[A\n",
            "Eval:  19%|█▉        | 3/16 [00:00<00:01,  9.21it/s]\u001b[A\n",
            "Eval:  31%|███▏      | 5/16 [00:00<00:01, 10.66it/s]\u001b[A\n",
            "Eval:  44%|████▍     | 7/16 [00:00<00:00, 11.11it/s]\u001b[A\n",
            "Eval:  56%|█████▋    | 9/16 [00:00<00:00, 11.34it/s]\u001b[A\n",
            "Eval:  69%|██████▉   | 11/16 [00:01<00:00, 11.09it/s]\u001b[A\n",
            "Eval:  81%|████████▏ | 13/16 [00:01<00:00, 11.17it/s]\u001b[A\n",
            "Eval:  94%|█████████▍| 15/16 [00:01<00:00, 11.03it/s]\u001b[A\n",
            "                                                     \u001b[A"
          ]
        },
        {
          "output_type": "stream",
          "name": "stdout",
          "text": [
            "Acc for model which have lower valid loss:  0.97825\n"
          ]
        },
        {
          "output_type": "stream",
          "name": "stderr",
          "text": [
            "Epoch 1:  40%|███▉      | 1384/3463 [03:47<05:50,  5.93batch/s, loss=0.00603]\n",
            "Eval:   0%|          | 0/16 [00:00<?, ?it/s]\u001b[A\n",
            "Eval:   6%|▋         | 1/16 [00:00<00:02,  5.67it/s]\u001b[A\n",
            "Eval:  19%|█▉        | 3/16 [00:00<00:01,  9.24it/s]\u001b[A\n",
            "Eval:  31%|███▏      | 5/16 [00:00<00:01, 10.65it/s]\u001b[A\n",
            "Eval:  44%|████▍     | 7/16 [00:00<00:00, 11.15it/s]\u001b[A\n",
            "Eval:  56%|█████▋    | 9/16 [00:00<00:00, 11.38it/s]\u001b[A\n",
            "Eval:  69%|██████▉   | 11/16 [00:01<00:00, 11.10it/s]\u001b[A\n",
            "Eval:  81%|████████▏ | 13/16 [00:01<00:00, 11.15it/s]\u001b[A\n",
            "Eval:  94%|█████████▍| 15/16 [00:01<00:00, 11.01it/s]\u001b[A\n",
            "                                                     \u001b[A"
          ]
        },
        {
          "output_type": "stream",
          "name": "stdout",
          "text": [
            "Acc for model which have lower valid loss:  0.9785\n"
          ]
        },
        {
          "output_type": "stream",
          "name": "stderr",
          "text": [
            "Epoch 1:  60%|█████▉    | 2076/3463 [05:43<03:41,  6.27batch/s, loss=0.0187]\n",
            "Eval:   0%|          | 0/16 [00:00<?, ?it/s]\u001b[A\n",
            "Eval:   6%|▋         | 1/16 [00:00<00:02,  5.63it/s]\u001b[A\n",
            "Eval:  19%|█▉        | 3/16 [00:00<00:01,  9.19it/s]\u001b[A\n",
            "Eval:  31%|███▏      | 5/16 [00:00<00:01, 10.60it/s]\u001b[A\n",
            "Eval:  44%|████▍     | 7/16 [00:00<00:00, 11.13it/s]\u001b[A\n",
            "Eval:  56%|█████▋    | 9/16 [00:00<00:00, 11.27it/s]\u001b[A\n",
            "Eval:  69%|██████▉   | 11/16 [00:01<00:00, 11.05it/s]\u001b[A\n",
            "Eval:  81%|████████▏ | 13/16 [00:01<00:00, 11.12it/s]\u001b[A\n",
            "Eval:  94%|█████████▍| 15/16 [00:01<00:00, 11.00it/s]\u001b[A\n",
            "                                                     \u001b[A"
          ]
        },
        {
          "output_type": "stream",
          "name": "stdout",
          "text": [
            "Acc for model which have lower valid loss:  0.9805\n"
          ]
        },
        {
          "output_type": "stream",
          "name": "stderr",
          "text": [
            "Epoch 1:  80%|███████▉  | 2768/3463 [07:38<01:55,  6.02batch/s, loss=0.00691]\n",
            "Eval:   0%|          | 0/16 [00:00<?, ?it/s]\u001b[A\n",
            "Eval:   6%|▋         | 1/16 [00:00<00:02,  5.57it/s]\u001b[A\n",
            "Eval:  19%|█▉        | 3/16 [00:00<00:01,  9.20it/s]\u001b[A\n",
            "Eval:  31%|███▏      | 5/16 [00:00<00:01, 10.61it/s]\u001b[A\n",
            "Eval:  44%|████▍     | 7/16 [00:00<00:00, 11.22it/s]\u001b[A\n",
            "Eval:  56%|█████▋    | 9/16 [00:00<00:00, 11.44it/s]\u001b[A\n",
            "Eval:  69%|██████▉   | 11/16 [00:01<00:00, 11.16it/s]\u001b[A\n",
            "Eval:  81%|████████▏ | 13/16 [00:01<00:00, 11.20it/s]\u001b[A\n",
            "Eval:  94%|█████████▍| 15/16 [00:01<00:00, 11.05it/s]\u001b[A\n",
            "                                                     \u001b[A"
          ]
        },
        {
          "output_type": "stream",
          "name": "stdout",
          "text": [
            "Acc for model which have lower valid loss:  0.977\n"
          ]
        },
        {
          "output_type": "stream",
          "name": "stderr",
          "text": [
            "Epoch 1: 100%|█████████▉| 3460/3463 [09:33<00:00,  5.82batch/s, loss=0.00443] \n",
            "Eval:   0%|          | 0/16 [00:00<?, ?it/s]\u001b[A\n",
            "Eval:   6%|▋         | 1/16 [00:00<00:02,  5.75it/s]\u001b[A\n",
            "Eval:  19%|█▉        | 3/16 [00:00<00:01,  9.37it/s]\u001b[A\n",
            "Eval:  31%|███▏      | 5/16 [00:00<00:01, 10.63it/s]\u001b[A\n",
            "Eval:  44%|████▍     | 7/16 [00:00<00:00, 11.22it/s]\u001b[A\n",
            "Eval:  56%|█████▋    | 9/16 [00:00<00:00, 11.44it/s]\u001b[A\n",
            "Eval:  69%|██████▉   | 11/16 [00:01<00:00, 11.18it/s]\u001b[A\n",
            "Eval:  81%|████████▏ | 13/16 [00:01<00:00, 11.20it/s]\u001b[A\n",
            "Eval:  94%|█████████▍| 15/16 [00:01<00:00, 11.03it/s]\u001b[A\n",
            "                                                     \u001b[A"
          ]
        },
        {
          "output_type": "stream",
          "name": "stdout",
          "text": [
            "Acc for model which have lower valid loss:  0.978\n"
          ]
        },
        {
          "output_type": "stream",
          "name": "stderr",
          "text": [
            "Epoch 1: 100%|██████████| 3463/3463 [09:36<00:00,  6.01batch/s, loss=0.00369]\n",
            "Epoch 2:  20%|█▉        | 692/3463 [01:53<07:45,  5.96batch/s, loss=0.0105] \n",
            "Eval:   0%|          | 0/16 [00:00<?, ?it/s]\u001b[A\n",
            "Eval:   6%|▋         | 1/16 [00:00<00:02,  5.50it/s]\u001b[A\n",
            "Eval:  19%|█▉        | 3/16 [00:00<00:01,  9.09it/s]\u001b[A\n",
            "Eval:  31%|███▏      | 5/16 [00:00<00:01, 10.51it/s]\u001b[A\n",
            "Eval:  44%|████▍     | 7/16 [00:00<00:00, 11.14it/s]\u001b[A\n",
            "Eval:  56%|█████▋    | 9/16 [00:00<00:00, 11.37it/s]\u001b[A\n",
            "Eval:  69%|██████▉   | 11/16 [00:01<00:00, 11.13it/s]\u001b[A\n",
            "Eval:  81%|████████▏ | 13/16 [00:01<00:00, 11.08it/s]\u001b[A\n",
            "Eval:  94%|█████████▍| 15/16 [00:01<00:00, 10.96it/s]\u001b[A\n",
            "                                                     \u001b[A"
          ]
        },
        {
          "output_type": "stream",
          "name": "stdout",
          "text": [
            "Acc for model which have lower valid loss:  0.9795\n"
          ]
        },
        {
          "output_type": "stream",
          "name": "stderr",
          "text": [
            "Epoch 2:  40%|███▉      | 1384/3463 [03:48<05:27,  6.35batch/s, loss=0.00589] \n",
            "Eval:   0%|          | 0/16 [00:00<?, ?it/s]\u001b[A\n",
            "Eval:   6%|▋         | 1/16 [00:00<00:02,  5.61it/s]\u001b[A\n",
            "Eval:  19%|█▉        | 3/16 [00:00<00:01,  9.16it/s]\u001b[A\n",
            "Eval:  31%|███▏      | 5/16 [00:00<00:01, 10.59it/s]\u001b[A\n",
            "Eval:  44%|████▍     | 7/16 [00:00<00:00, 11.21it/s]\u001b[A\n",
            "Eval:  56%|█████▋    | 9/16 [00:00<00:00, 11.43it/s]\u001b[A\n",
            "Eval:  69%|██████▉   | 11/16 [00:01<00:00, 11.16it/s]\u001b[A\n",
            "Eval:  81%|████████▏ | 13/16 [00:01<00:00, 11.22it/s]\u001b[A\n",
            "Eval:  94%|█████████▍| 15/16 [00:01<00:00, 11.08it/s]\u001b[A\n",
            "                                                     \u001b[A"
          ]
        },
        {
          "output_type": "stream",
          "name": "stdout",
          "text": [
            "Acc for model which have lower valid loss:  0.9775\n"
          ]
        },
        {
          "output_type": "stream",
          "name": "stderr",
          "text": [
            "Epoch 2:  60%|█████▉    | 2076/3463 [05:43<03:48,  6.07batch/s, loss=0.000821]\n",
            "Eval:   0%|          | 0/16 [00:00<?, ?it/s]\u001b[A\n",
            "Eval:   6%|▋         | 1/16 [00:00<00:02,  5.53it/s]\u001b[A\n",
            "Eval:  19%|█▉        | 3/16 [00:00<00:01,  9.12it/s]\u001b[A\n",
            "Eval:  31%|███▏      | 5/16 [00:00<00:01, 10.48it/s]\u001b[A\n",
            "Eval:  44%|████▍     | 7/16 [00:00<00:00, 11.11it/s]\u001b[A\n",
            "Eval:  56%|█████▋    | 9/16 [00:00<00:00, 11.35it/s]\u001b[A\n",
            "Eval:  69%|██████▉   | 11/16 [00:01<00:00, 11.08it/s]\u001b[A\n",
            "Eval:  81%|████████▏ | 13/16 [00:01<00:00, 11.13it/s]\u001b[A\n",
            "Eval:  94%|█████████▍| 15/16 [00:01<00:00, 11.01it/s]\u001b[A\n",
            "                                                     \u001b[A"
          ]
        },
        {
          "output_type": "stream",
          "name": "stdout",
          "text": [
            "Acc for model which have lower valid loss:  0.97875\n"
          ]
        },
        {
          "output_type": "stream",
          "name": "stderr",
          "text": [
            "Epoch 2:  80%|███████▉  | 2768/3463 [07:37<01:52,  6.20batch/s, loss=0.0667]\n",
            "Eval:   0%|          | 0/16 [00:00<?, ?it/s]\u001b[A\n",
            "Eval:   6%|▋         | 1/16 [00:00<00:02,  5.33it/s]\u001b[A\n",
            "Eval:  19%|█▉        | 3/16 [00:00<00:01,  9.11it/s]\u001b[A\n",
            "Eval:  31%|███▏      | 5/16 [00:00<00:01, 10.58it/s]\u001b[A\n",
            "Eval:  44%|████▍     | 7/16 [00:00<00:00, 11.15it/s]\u001b[A\n",
            "Eval:  56%|█████▋    | 9/16 [00:00<00:00, 11.39it/s]\u001b[A\n",
            "Eval:  69%|██████▉   | 11/16 [00:01<00:00, 11.14it/s]\u001b[A\n",
            "Eval:  81%|████████▏ | 13/16 [00:01<00:00, 11.18it/s]\u001b[A\n",
            "Eval:  94%|█████████▍| 15/16 [00:01<00:00, 11.02it/s]\u001b[A\n",
            "                                                     \u001b[A"
          ]
        },
        {
          "output_type": "stream",
          "name": "stdout",
          "text": [
            "Acc for model which have lower valid loss:  0.978\n"
          ]
        },
        {
          "output_type": "stream",
          "name": "stderr",
          "text": [
            "Epoch 2: 100%|█████████▉| 3460/3463 [09:32<00:00,  5.92batch/s, loss=0.012]  \n",
            "Eval:   0%|          | 0/16 [00:00<?, ?it/s]\u001b[A\n",
            "Eval:   6%|▋         | 1/16 [00:00<00:02,  5.85it/s]\u001b[A\n",
            "Eval:  19%|█▉        | 3/16 [00:00<00:01,  9.42it/s]\u001b[A\n",
            "Eval:  31%|███▏      | 5/16 [00:00<00:01, 10.64it/s]\u001b[A\n",
            "Eval:  44%|████▍     | 7/16 [00:00<00:00, 11.25it/s]\u001b[A\n",
            "Eval:  56%|█████▋    | 9/16 [00:00<00:00, 11.44it/s]\u001b[A\n",
            "Eval:  69%|██████▉   | 11/16 [00:01<00:00, 11.16it/s]\u001b[A\n",
            "Eval:  81%|████████▏ | 13/16 [00:01<00:00, 11.18it/s]\u001b[A\n",
            "Eval:  94%|█████████▍| 15/16 [00:01<00:00, 11.05it/s]\u001b[A\n",
            "                                                     \u001b[A"
          ]
        },
        {
          "output_type": "stream",
          "name": "stdout",
          "text": [
            "Acc for model which have lower valid loss:  0.97875\n"
          ]
        },
        {
          "output_type": "stream",
          "name": "stderr",
          "text": [
            "Epoch 2: 100%|██████████| 3463/3463 [09:35<00:00,  6.02batch/s, loss=0.0124]\n"
          ]
        },
        {
          "output_type": "display_data",
          "data": {
            "text/plain": [
              "<IPython.core.display.HTML object>"
            ],
            "text/html": [
              "Waiting for W&B process to finish... <strong style=\"color:green\">(success).</strong>"
            ]
          },
          "metadata": {}
        },
        {
          "output_type": "display_data",
          "data": {
            "text/plain": [
              "VBox(children=(Label(value='0.000 MB of 0.000 MB uploaded (0.000 MB deduped)\\r'), FloatProgress(value=1.0, max…"
            ],
            "application/vnd.jupyter.widget-view+json": {
              "version_major": 2,
              "version_minor": 0,
              "model_id": "dcd7450f8f894b95ae9691cb475581bd"
            }
          },
          "metadata": {}
        },
        {
          "output_type": "display_data",
          "data": {
            "text/plain": [
              "<IPython.core.display.HTML object>"
            ],
            "text/html": [
              "<style>\n",
              "    table.wandb td:nth-child(1) { padding: 0 10px; text-align: left ; width: auto;} td:nth-child(2) {text-align: left ; width: 100%}\n",
              "    .wandb-row { display: flex; flex-direction: row; flex-wrap: wrap; justify-content: flex-start; width: 100% }\n",
              "    .wandb-col { display: flex; flex-direction: column; flex-basis: 100%; flex: 1; padding: 10px; }\n",
              "    </style>\n",
              "<div class=\"wandb-row\"><div class=\"wandb-col\"><h3>Run history:</h3><br/><table class=\"wandb\"><tr><td>Test Acc</td><td>▃▁▄▅▆▅▅█▃▅▇▄▆▅▆</td></tr><tr><td>Test Loss</td><td>▆▅▆▁▂▄▄▃▄▅██▆▅▆</td></tr></table><br/></div><div class=\"wandb-col\"><h3>Run summary:</h3><br/><table class=\"wandb\"><tr><td>Test Acc</td><td>0.97875</td></tr><tr><td>Test Loss</td><td>0.09174</td></tr></table><br/></div></div>"
            ]
          },
          "metadata": {}
        },
        {
          "output_type": "display_data",
          "data": {
            "text/plain": [
              "<IPython.core.display.HTML object>"
            ],
            "text/html": [
              "Synced <strong style=\"color:#cdcd00\">dazzling-forest-2</strong>: <a href=\"https://wandb.ai/ohseokjin/uncategorized/runs/3h4tx1cr\" target=\"_blank\">https://wandb.ai/ohseokjin/uncategorized/runs/3h4tx1cr</a><br/>Synced 5 W&B file(s), 0 media file(s), 0 artifact file(s) and 0 other file(s)"
            ]
          },
          "metadata": {}
        },
        {
          "output_type": "display_data",
          "data": {
            "text/plain": [
              "<IPython.core.display.HTML object>"
            ],
            "text/html": [
              "Find logs at: <code>./wandb/run-20220930_040417-3h4tx1cr/logs</code>"
            ]
          },
          "metadata": {}
        }
      ]
    },
    {
      "cell_type": "code",
      "source": [
        "import pandas as pd\n",
        "test_df = pd.read_csv('../content/drive/MyDrive/Goorm/project01/data/test_no_label.csv')"
      ],
      "metadata": {
        "id": "P95gtlnurvgX"
      },
      "execution_count": null,
      "outputs": []
    },
    {
      "cell_type": "code",
      "source": [
        "test_dataset = test_df['Id']"
      ],
      "metadata": {
        "id": "cLDzC10ErvgX"
      },
      "execution_count": null,
      "outputs": []
    },
    {
      "cell_type": "code",
      "source": [
        "def make_id_file_test(tokenizer, test_dataset):\n",
        "    data_strings = []\n",
        "    id_file_data = [tokenizer.encode(sent.lower()) for sent in test_dataset]\n",
        "    for item in id_file_data:\n",
        "        data_strings.append(' '.join([str(k) for k in item]))\n",
        "    return data_strings"
      ],
      "metadata": {
        "id": "jnt693N0rvgX"
      },
      "execution_count": null,
      "outputs": []
    },
    {
      "cell_type": "code",
      "source": [
        "test = make_id_file_test(tokenizer, test_dataset)"
      ],
      "metadata": {
        "id": "7C5PpXtlrvgY"
      },
      "execution_count": null,
      "outputs": []
    },
    {
      "cell_type": "code",
      "source": [
        "test[:10]"
      ],
      "metadata": {
        "id": "1aqse7SHrvgY",
        "outputId": "bd66ae5a-ebb3-4e28-870b-a4b3f8941535",
        "colab": {
          "base_uri": "https://localhost:8080/"
        }
      },
      "execution_count": null,
      "outputs": [
        {
          "output_type": "execute_result",
          "data": {
            "text/plain": [
              "['101 2009 1005 1055 1037 2878 2047 3325 1998 2047 26389 2169 2051 2017 2175 1012 102',\n",
              " '101 2061 15640 2013 2019 2214 5440 1012 102',\n",
              " '101 2009 2003 1996 2087 14469 7273 1999 1996 3028 1012 102',\n",
              " '101 2079 2025 3696 1037 10084 2007 2122 2111 1012 102',\n",
              " '101 1045 2001 6091 1998 2016 2081 2033 2514 2061 6625 1998 6160 1012 102',\n",
              " '101 1996 2069 2518 2057 2363 2008 2001 2980 2001 1996 4157 1012 102',\n",
              " '101 2053 1010 2025 1996 3924 2012 2004 2226 1010 1996 3924 1999 3502 2152 1012 102',\n",
              " '101 2027 3288 2009 2041 2392 2005 2017 1998 2024 2200 14044 1012 102',\n",
              " '101 4606 1996 12043 2106 1050 1005 1056 2130 2113 2129 2000 2147 1996 3274 1012 102',\n",
              " '101 2027 2031 2019 6581 4989 1997 25025 2015 2000 5454 2013 1012 102']"
            ]
          },
          "metadata": {},
          "execution_count": 29
        }
      ]
    },
    {
      "cell_type": "code",
      "source": [
        "class SentimentTestDataset(object):\n",
        "    def __init__(self, tokenizer, test):\n",
        "        self.tokenizer = tokenizer\n",
        "        self.data = []\n",
        "\n",
        "        for sent in test:\n",
        "            self.data += [self._cast_to_int(sent.strip().split())]\n",
        "\n",
        "    def _cast_to_int(self, sample):\n",
        "        return [int(word_id) for word_id in sample]\n",
        "\n",
        "    def __len__(self):\n",
        "        return len(self.data)\n",
        "\n",
        "    def __getitem__(self, index):\n",
        "        sample = self.data[index]\n",
        "        return np.array(sample)"
      ],
      "metadata": {
        "id": "cZi14gnnrvgY"
      },
      "execution_count": null,
      "outputs": []
    },
    {
      "cell_type": "code",
      "source": [
        "test_dataset = SentimentTestDataset(tokenizer, test)"
      ],
      "metadata": {
        "id": "erHjGE9rrvgY"
      },
      "execution_count": null,
      "outputs": []
    },
    {
      "cell_type": "code",
      "source": [
        "def collate_fn_style_test(samples):\n",
        "    input_ids = samples\n",
        "    max_len = max(len(input_id) for input_id in input_ids)\n",
        "    # sorted_indices = np.argsort([len(input_id) for input_id in input_ids])[::-1]\n",
        "    sorted_indices = range(len(input_ids))\n",
        "\n",
        "    input_ids = pad_sequence([torch.tensor(input_ids[index]) for index in sorted_indices],\n",
        "                             batch_first=True)\n",
        "    attention_mask = torch.tensor(\n",
        "        [[1] * len(input_ids[index]) + [0] * (max_len - len(input_ids[index])) for index in\n",
        "         sorted_indices])\n",
        "    token_type_ids = torch.tensor([[0] * len(input_ids[index]) for index in sorted_indices])\n",
        "    position_ids = torch.tensor([list(range(len(input_ids[index]))) for index in sorted_indices])\n",
        "\n",
        "    return input_ids, attention_mask, token_type_ids, position_ids"
      ],
      "metadata": {
        "id": "y03-nDX9rvgZ"
      },
      "execution_count": null,
      "outputs": []
    },
    {
      "cell_type": "code",
      "source": [
        "test_batch_size = 128\n",
        "test_loader = torch.utils.data.DataLoader(test_dataset, batch_size=test_batch_size,\n",
        "                                          shuffle=False, collate_fn=collate_fn_style_test,\n",
        "                                          num_workers=2)"
      ],
      "metadata": {
        "id": "gZ0l1HparvgZ"
      },
      "execution_count": null,
      "outputs": []
    },
    {
      "cell_type": "code",
      "source": [
        "with torch.no_grad():\n",
        "    model.eval()\n",
        "    predictions = []\n",
        "    for input_ids, attention_mask, token_type_ids, position_ids in tqdm(test_loader,\n",
        "                                                                        desc='Test',\n",
        "                                                                        position=1,\n",
        "                                                                        leave=None):\n",
        "\n",
        "        input_ids = input_ids.to(device)\n",
        "        attention_mask = attention_mask.to(device)\n",
        "        token_type_ids = token_type_ids.to(device)\n",
        "        position_ids = position_ids.to(device)\n",
        "\n",
        "        output = model(input_ids=input_ids,\n",
        "                       attention_mask=attention_mask,\n",
        "                       token_type_ids=token_type_ids,\n",
        "                       position_ids=position_ids)\n",
        "\n",
        "        logits = output.logits\n",
        "        batch_predictions = [0 if example[0] > example[1] else 1 for example in logits]\n",
        "        predictions += batch_predictions"
      ],
      "metadata": {
        "id": "XoSHTbJUrvgZ",
        "outputId": "5333dc76-78d7-485e-d6a3-58c114f32d55",
        "colab": {
          "base_uri": "https://localhost:8080/"
        }
      },
      "execution_count": null,
      "outputs": [
        {
          "output_type": "stream",
          "name": "stderr",
          "text": [
            "\n",
            "Test:   0%|          | 0/8 [00:00<?, ?it/s]\u001b[A\n",
            "Test:  12%|█▎        | 1/8 [00:00<00:00,  7.10it/s]\u001b[A\n",
            "Test:  50%|█████     | 4/8 [00:00<00:00, 16.23it/s]\u001b[A\n",
            "Test:  88%|████████▊ | 7/8 [00:00<00:00, 19.72it/s]\u001b[A\n",
            "                                                   \u001b[A"
          ]
        }
      ]
    },
    {
      "cell_type": "code",
      "source": [
        "test_df['Category'] = predictions"
      ],
      "metadata": {
        "id": "tGO3aS-VrvgZ"
      },
      "execution_count": null,
      "outputs": []
    },
    {
      "cell_type": "code",
      "source": [
        "test_df.to_csv('submission.csv', index=False)"
      ],
      "metadata": {
        "id": "VndXxal3rvgZ"
      },
      "execution_count": null,
      "outputs": []
    },
    {
      "cell_type": "markdown",
      "source": [
        "# test before submission"
      ],
      "metadata": {
        "id": "-jb2PFrsYH3j"
      }
    },
    {
      "cell_type": "code",
      "source": [
        "# best acc = 0.988\n",
        "Best_submission = pd.read_csv('../content/drive/MyDrive/Goorm/project01/data/Best_submission.csv')\n",
        "My_submission = pd.read_csv('/content/submission.csv')"
      ],
      "metadata": {
        "id": "teI5bcj7YNbE"
      },
      "execution_count": null,
      "outputs": []
    },
    {
      "cell_type": "code",
      "source": [
        "check_list = []\n",
        "cnt = 0\n",
        "\n",
        "for i in range(1000):\n",
        "    if Best_submission['Category'][i] != My_submission['Category'][i]:\n",
        "        check_list.append(i+2)\n",
        "        cnt += 1\n",
        "\n",
        "print(check_list)\n",
        "print(cnt)"
      ],
      "metadata": {
        "colab": {
          "base_uri": "https://localhost:8080/"
        },
        "id": "_hYMNyIPYnH_",
        "outputId": "c84e927b-86df-4492-ac55-ea285ff1aef9"
      },
      "execution_count": null,
      "outputs": [
        {
          "output_type": "stream",
          "name": "stdout",
          "text": [
            "[18, 102, 282, 299, 377, 409, 411, 491, 505, 536, 604, 700, 744, 772, 933]\n",
            "15\n"
          ]
        }
      ]
    },
    {
      "cell_type": "code",
      "source": [],
      "metadata": {
        "id": "TZ4LUSu-6qvg"
      },
      "execution_count": null,
      "outputs": []
    }
  ]
}