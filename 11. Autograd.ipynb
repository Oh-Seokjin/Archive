{
 "cells": [
  {
   "cell_type": "markdown",
   "metadata": {},
   "source": [
    "# Autograd"
   ]
  },
  {
   "cell_type": "code",
   "execution_count": 1,
   "metadata": {},
   "outputs": [],
   "source": [
    "import torch"
   ]
  },
  {
   "cell_type": "code",
   "execution_count": 24,
   "metadata": {},
   "outputs": [],
   "source": [
    "x = torch.ones(5)\n",
    "y = torch.zeros(3)\n",
    "w = torch.randn(5, 3, requires_grad=True)\n",
    "b = torch.randn(3, requires_grad=True)\n",
    "z = torch.matmul(x, w)+b\n",
    "loss = torch.nn.functional.binary_cross_entropy_with_logits(z, y)"
   ]
  },
  {
   "cell_type": "code",
   "execution_count": 25,
   "metadata": {},
   "outputs": [
    {
     "name": "stdout",
     "output_type": "stream",
     "text": [
      "Before backprop\n",
      "None\n",
      "None\n",
      "\n",
      "After backprop\n",
      "tensor([[0.2139, 0.2805, 0.3227],\n",
      "        [0.2139, 0.2805, 0.3227],\n",
      "        [0.2139, 0.2805, 0.3227],\n",
      "        [0.2139, 0.2805, 0.3227],\n",
      "        [0.2139, 0.2805, 0.3227]])\n",
      "tensor([0.2139, 0.2805, 0.3227])\n"
     ]
    }
   ],
   "source": [
    "print(\"Before backprop\")\n",
    "print(w.grad)\n",
    "print(b.grad)\n",
    "print(\"\\nAfter backprop\")\n",
    "loss.backward() # grad는 누적되므로, 쌓고싶으면 retrain_graph=True, 초기화는 zero_grad()\n",
    "print(w.grad)\n",
    "print(b.grad)"
   ]
  }
 ],
 "metadata": {
  "kernelspec": {
   "display_name": "Python 3.9.7 ('base')",
   "language": "python",
   "name": "python3"
  },
  "language_info": {
   "codemirror_mode": {
    "name": "ipython",
    "version": 3
   },
   "file_extension": ".py",
   "mimetype": "text/x-python",
   "name": "python",
   "nbconvert_exporter": "python",
   "pygments_lexer": "ipython3",
   "version": "3.9.7"
  },
  "orig_nbformat": 4,
  "vscode": {
   "interpreter": {
    "hash": "fc8214fa935b74cd2993506950db861c39f3b536af543597dc14393642024e69"
   }
  }
 },
 "nbformat": 4,
 "nbformat_minor": 2
}
